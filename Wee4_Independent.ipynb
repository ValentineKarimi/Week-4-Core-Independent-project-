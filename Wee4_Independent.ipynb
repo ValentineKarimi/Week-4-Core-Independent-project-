{
  "nbformat": 4,
  "nbformat_minor": 0,
  "metadata": {
    "colab": {
      "name": "Wee4_Independent.ipynb",
      "provenance": [],
      "collapsed_sections": [
        "ZM2WLuvr6GL-",
        "OHhmFVdO_bV-",
        "YhSqud8pBOCn",
        "wXajQxkd_iBt",
        "sPrA49EH_qGl"
      ],
      "authorship_tag": "ABX9TyMM/zpNu5z0xg0NY8aFgfzx",
      "include_colab_link": true
    },
    "kernelspec": {
      "name": "python3",
      "display_name": "Python 3"
    }
  },
  "cells": [
    {
      "cell_type": "markdown",
      "metadata": {
        "id": "view-in-github",
        "colab_type": "text"
      },
      "source": [
        "<a href=\"https://colab.research.google.com/github/ValentineKarimi/Week-4-Core-Independent-project-/blob/master/Wee4_Independent.ipynb\" target=\"_parent\"><img src=\"https://colab.research.google.com/assets/colab-badge.svg\" alt=\"Open In Colab\"/></a>"
      ]
    },
    {
      "cell_type": "markdown",
      "metadata": {
        "id": "ZM2WLuvr6GL-",
        "colab_type": "text"
      },
      "source": [
        "#  Importing Libraries"
      ]
    },
    {
      "cell_type": "code",
      "metadata": {
        "id": "5oZ1u2_vkgYV",
        "colab_type": "code",
        "colab": {}
      },
      "source": [
        "# Importing the Pandas Library\n",
        "#\n",
        "import pandas as pd\n",
        "\n",
        "# Importing the Numpy Library\n",
        "#\n",
        "import numpy as np\n",
        "\n",
        "#Import plots \n",
        "#\n",
        "import matplotlib.pyplot as plt\n",
        "import seaborn as sns\n",
        "\n",
        "#Import stats libraries\n",
        "# "
      ],
      "execution_count": 2060,
      "outputs": []
    },
    {
      "cell_type": "markdown",
      "metadata": {
        "id": "OHhmFVdO_bV-",
        "colab_type": "text"
      },
      "source": [
        "# Reading the data"
      ]
    },
    {
      "cell_type": "code",
      "metadata": {
        "id": "mS_qKavJwmul",
        "colab_type": "code",
        "colab": {
          "base_uri": "https://localhost:8080/",
          "height": 0
        },
        "outputId": "62c52a1e-8536-4017-e674-e0481dd04f42"
      },
      "source": [
        "#loading the database\n",
        "with open('/content/autolib_daily_events_postal_code.csv', 'r') as f:\n",
        "     df = pd.read_csv(f, header=0)\n",
        "df.head(3)"
      ],
      "execution_count": 2061,
      "outputs": [
        {
          "output_type": "execute_result",
          "data": {
            "text/html": [
              "<div>\n",
              "<style scoped>\n",
              "    .dataframe tbody tr th:only-of-type {\n",
              "        vertical-align: middle;\n",
              "    }\n",
              "\n",
              "    .dataframe tbody tr th {\n",
              "        vertical-align: top;\n",
              "    }\n",
              "\n",
              "    .dataframe thead th {\n",
              "        text-align: right;\n",
              "    }\n",
              "</style>\n",
              "<table border=\"1\" class=\"dataframe\">\n",
              "  <thead>\n",
              "    <tr style=\"text-align: right;\">\n",
              "      <th></th>\n",
              "      <th>Postal code</th>\n",
              "      <th>date</th>\n",
              "      <th>n_daily_data_points</th>\n",
              "      <th>dayOfWeek</th>\n",
              "      <th>day_type</th>\n",
              "      <th>BlueCars_taken_sum</th>\n",
              "      <th>BlueCars_returned_sum</th>\n",
              "      <th>Utilib_taken_sum</th>\n",
              "      <th>Utilib_returned_sum</th>\n",
              "      <th>Utilib_14_taken_sum</th>\n",
              "      <th>Utilib_14_returned_sum</th>\n",
              "      <th>Slots_freed_sum</th>\n",
              "      <th>Slots_taken_sum</th>\n",
              "    </tr>\n",
              "  </thead>\n",
              "  <tbody>\n",
              "    <tr>\n",
              "      <th>0</th>\n",
              "      <td>75001</td>\n",
              "      <td>1/1/2018</td>\n",
              "      <td>1440</td>\n",
              "      <td>0</td>\n",
              "      <td>weekday</td>\n",
              "      <td>110</td>\n",
              "      <td>103</td>\n",
              "      <td>3</td>\n",
              "      <td>2</td>\n",
              "      <td>10</td>\n",
              "      <td>9</td>\n",
              "      <td>22</td>\n",
              "      <td>20</td>\n",
              "    </tr>\n",
              "    <tr>\n",
              "      <th>1</th>\n",
              "      <td>75001</td>\n",
              "      <td>1/2/2018</td>\n",
              "      <td>1438</td>\n",
              "      <td>1</td>\n",
              "      <td>weekday</td>\n",
              "      <td>98</td>\n",
              "      <td>94</td>\n",
              "      <td>1</td>\n",
              "      <td>1</td>\n",
              "      <td>8</td>\n",
              "      <td>8</td>\n",
              "      <td>23</td>\n",
              "      <td>22</td>\n",
              "    </tr>\n",
              "    <tr>\n",
              "      <th>2</th>\n",
              "      <td>75001</td>\n",
              "      <td>1/3/2018</td>\n",
              "      <td>1439</td>\n",
              "      <td>2</td>\n",
              "      <td>weekday</td>\n",
              "      <td>138</td>\n",
              "      <td>139</td>\n",
              "      <td>0</td>\n",
              "      <td>0</td>\n",
              "      <td>2</td>\n",
              "      <td>2</td>\n",
              "      <td>27</td>\n",
              "      <td>27</td>\n",
              "    </tr>\n",
              "  </tbody>\n",
              "</table>\n",
              "</div>"
            ],
            "text/plain": [
              "   Postal code      date  ...  Slots_freed_sum  Slots_taken_sum\n",
              "0        75001  1/1/2018  ...               22               20\n",
              "1        75001  1/2/2018  ...               23               22\n",
              "2        75001  1/3/2018  ...               27               27\n",
              "\n",
              "[3 rows x 13 columns]"
            ]
          },
          "metadata": {
            "tags": []
          },
          "execution_count": 2061
        }
      ]
    },
    {
      "cell_type": "code",
      "metadata": {
        "id": "Oom80uYK6u3I",
        "colab_type": "code",
        "colab": {
          "base_uri": "https://localhost:8080/",
          "height": 0
        },
        "outputId": "d572a23f-5b7b-4bef-a8df-026c5a24af55"
      },
      "source": [
        "#Knowing how many records and columns are there \n",
        "df.shape"
      ],
      "execution_count": 2062,
      "outputs": [
        {
          "output_type": "execute_result",
          "data": {
            "text/plain": [
              "(16085, 13)"
            ]
          },
          "metadata": {
            "tags": []
          },
          "execution_count": 2062
        }
      ]
    },
    {
      "cell_type": "code",
      "metadata": {
        "id": "twMjrvpQxHq-",
        "colab_type": "code",
        "colab": {
          "base_uri": "https://localhost:8080/",
          "height": 0
        },
        "outputId": "2cd6fcf9-2468-490a-d314-141912635442"
      },
      "source": [
        "#Getting more information on data \n",
        "df.info()"
      ],
      "execution_count": 2063,
      "outputs": [
        {
          "output_type": "stream",
          "text": [
            "<class 'pandas.core.frame.DataFrame'>\n",
            "RangeIndex: 16085 entries, 0 to 16084\n",
            "Data columns (total 13 columns):\n",
            " #   Column                  Non-Null Count  Dtype \n",
            "---  ------                  --------------  ----- \n",
            " 0   Postal code             16085 non-null  int64 \n",
            " 1   date                    16085 non-null  object\n",
            " 2   n_daily_data_points     16085 non-null  int64 \n",
            " 3   dayOfWeek               16085 non-null  int64 \n",
            " 4   day_type                16085 non-null  object\n",
            " 5   BlueCars_taken_sum      16085 non-null  int64 \n",
            " 6   BlueCars_returned_sum   16085 non-null  int64 \n",
            " 7   Utilib_taken_sum        16085 non-null  int64 \n",
            " 8   Utilib_returned_sum     16085 non-null  int64 \n",
            " 9   Utilib_14_taken_sum     16085 non-null  int64 \n",
            " 10  Utilib_14_returned_sum  16085 non-null  int64 \n",
            " 11  Slots_freed_sum         16085 non-null  int64 \n",
            " 12  Slots_taken_sum         16085 non-null  int64 \n",
            "dtypes: int64(11), object(2)\n",
            "memory usage: 1.6+ MB\n"
          ],
          "name": "stdout"
        }
      ]
    },
    {
      "cell_type": "code",
      "metadata": {
        "id": "nVT0D6Gazp04",
        "colab_type": "code",
        "colab": {}
      },
      "source": [
        "#Drop the columns irrelevant to our analysis  \n",
        "to_drop = ['Utilib_taken_sum','Utilib_returned_sum','Utilib_14_taken_sum','Utilib_14_returned_sum','n_daily_data_points']\n",
        "df.drop(to_drop, axis=1,inplace=True)"
      ],
      "execution_count": 2064,
      "outputs": []
    },
    {
      "cell_type": "code",
      "metadata": {
        "id": "8iw1lV32xJ5Z",
        "colab_type": "code",
        "colab": {
          "base_uri": "https://localhost:8080/",
          "height": 0
        },
        "outputId": "b42ace0f-7387-4a5c-8fa4-42b120cb869c"
      },
      "source": [
        "#Finding any null values\n",
        "df.isnull()\n",
        "df.isnull().any()\n",
        "df.isnull().sum()"
      ],
      "execution_count": 2065,
      "outputs": [
        {
          "output_type": "execute_result",
          "data": {
            "text/plain": [
              "Postal code              0\n",
              "date                     0\n",
              "dayOfWeek                0\n",
              "day_type                 0\n",
              "BlueCars_taken_sum       0\n",
              "BlueCars_returned_sum    0\n",
              "Slots_freed_sum          0\n",
              "Slots_taken_sum          0\n",
              "dtype: int64"
            ]
          },
          "metadata": {
            "tags": []
          },
          "execution_count": 2065
        }
      ]
    },
    {
      "cell_type": "code",
      "metadata": {
        "id": "r3Y375EaxU5P",
        "colab_type": "code",
        "colab": {
          "base_uri": "https://localhost:8080/",
          "height": 0
        },
        "outputId": "ba523708-03e8-408d-c4dd-e99165d5a803"
      },
      "source": [
        "#Standardization - Fixing messy column names-  All columns will be in lowercase and will avoid any white spaces on the columns \n",
        "df.columns = df.columns.str.strip().str.lower().str.replace(' ', '_').str.replace('(', '').str.replace(')', '')\n",
        "df.tail(3)"
      ],
      "execution_count": 2066,
      "outputs": [
        {
          "output_type": "execute_result",
          "data": {
            "text/html": [
              "<div>\n",
              "<style scoped>\n",
              "    .dataframe tbody tr th:only-of-type {\n",
              "        vertical-align: middle;\n",
              "    }\n",
              "\n",
              "    .dataframe tbody tr th {\n",
              "        vertical-align: top;\n",
              "    }\n",
              "\n",
              "    .dataframe thead th {\n",
              "        text-align: right;\n",
              "    }\n",
              "</style>\n",
              "<table border=\"1\" class=\"dataframe\">\n",
              "  <thead>\n",
              "    <tr style=\"text-align: right;\">\n",
              "      <th></th>\n",
              "      <th>postal_code</th>\n",
              "      <th>date</th>\n",
              "      <th>dayofweek</th>\n",
              "      <th>day_type</th>\n",
              "      <th>bluecars_taken_sum</th>\n",
              "      <th>bluecars_returned_sum</th>\n",
              "      <th>slots_freed_sum</th>\n",
              "      <th>slots_taken_sum</th>\n",
              "    </tr>\n",
              "  </thead>\n",
              "  <tbody>\n",
              "    <tr>\n",
              "      <th>16082</th>\n",
              "      <td>95880</td>\n",
              "      <td>6/17/2018</td>\n",
              "      <td>6</td>\n",
              "      <td>weekend</td>\n",
              "      <td>33</td>\n",
              "      <td>35</td>\n",
              "      <td>0</td>\n",
              "      <td>0</td>\n",
              "    </tr>\n",
              "    <tr>\n",
              "      <th>16083</th>\n",
              "      <td>95880</td>\n",
              "      <td>6/18/2018</td>\n",
              "      <td>0</td>\n",
              "      <td>weekday</td>\n",
              "      <td>11</td>\n",
              "      <td>14</td>\n",
              "      <td>0</td>\n",
              "      <td>0</td>\n",
              "    </tr>\n",
              "    <tr>\n",
              "      <th>16084</th>\n",
              "      <td>95880</td>\n",
              "      <td>6/19/2018</td>\n",
              "      <td>1</td>\n",
              "      <td>weekday</td>\n",
              "      <td>2</td>\n",
              "      <td>2</td>\n",
              "      <td>0</td>\n",
              "      <td>0</td>\n",
              "    </tr>\n",
              "  </tbody>\n",
              "</table>\n",
              "</div>"
            ],
            "text/plain": [
              "       postal_code       date  ...  slots_freed_sum slots_taken_sum\n",
              "16082        95880  6/17/2018  ...                0               0\n",
              "16083        95880  6/18/2018  ...                0               0\n",
              "16084        95880  6/19/2018  ...                0               0\n",
              "\n",
              "[3 rows x 8 columns]"
            ]
          },
          "metadata": {
            "tags": []
          },
          "execution_count": 2066
        }
      ]
    },
    {
      "cell_type": "code",
      "metadata": {
        "id": "lMH-1lJjydXo",
        "colab_type": "code",
        "colab": {
          "base_uri": "https://localhost:8080/",
          "height": 0
        },
        "outputId": "61678178-9fc7-4843-b6c1-28dc997b3175"
      },
      "source": [
        "#SET THE date_time as the index\n",
        "\n",
        "import datetime \n",
        "from datetime import  datetime\n",
        "df.date.sort_values(ascending=True)\n",
        "df.set_index(pd.DatetimeIndex(df['date']), drop=True, inplace = True)\n",
        "df.head()"
      ],
      "execution_count": 2067,
      "outputs": [
        {
          "output_type": "execute_result",
          "data": {
            "text/html": [
              "<div>\n",
              "<style scoped>\n",
              "    .dataframe tbody tr th:only-of-type {\n",
              "        vertical-align: middle;\n",
              "    }\n",
              "\n",
              "    .dataframe tbody tr th {\n",
              "        vertical-align: top;\n",
              "    }\n",
              "\n",
              "    .dataframe thead th {\n",
              "        text-align: right;\n",
              "    }\n",
              "</style>\n",
              "<table border=\"1\" class=\"dataframe\">\n",
              "  <thead>\n",
              "    <tr style=\"text-align: right;\">\n",
              "      <th></th>\n",
              "      <th>postal_code</th>\n",
              "      <th>date</th>\n",
              "      <th>dayofweek</th>\n",
              "      <th>day_type</th>\n",
              "      <th>bluecars_taken_sum</th>\n",
              "      <th>bluecars_returned_sum</th>\n",
              "      <th>slots_freed_sum</th>\n",
              "      <th>slots_taken_sum</th>\n",
              "    </tr>\n",
              "    <tr>\n",
              "      <th>date</th>\n",
              "      <th></th>\n",
              "      <th></th>\n",
              "      <th></th>\n",
              "      <th></th>\n",
              "      <th></th>\n",
              "      <th></th>\n",
              "      <th></th>\n",
              "      <th></th>\n",
              "    </tr>\n",
              "  </thead>\n",
              "  <tbody>\n",
              "    <tr>\n",
              "      <th>2018-01-01</th>\n",
              "      <td>75001</td>\n",
              "      <td>1/1/2018</td>\n",
              "      <td>0</td>\n",
              "      <td>weekday</td>\n",
              "      <td>110</td>\n",
              "      <td>103</td>\n",
              "      <td>22</td>\n",
              "      <td>20</td>\n",
              "    </tr>\n",
              "    <tr>\n",
              "      <th>2018-01-02</th>\n",
              "      <td>75001</td>\n",
              "      <td>1/2/2018</td>\n",
              "      <td>1</td>\n",
              "      <td>weekday</td>\n",
              "      <td>98</td>\n",
              "      <td>94</td>\n",
              "      <td>23</td>\n",
              "      <td>22</td>\n",
              "    </tr>\n",
              "    <tr>\n",
              "      <th>2018-01-03</th>\n",
              "      <td>75001</td>\n",
              "      <td>1/3/2018</td>\n",
              "      <td>2</td>\n",
              "      <td>weekday</td>\n",
              "      <td>138</td>\n",
              "      <td>139</td>\n",
              "      <td>27</td>\n",
              "      <td>27</td>\n",
              "    </tr>\n",
              "    <tr>\n",
              "      <th>2018-01-04</th>\n",
              "      <td>75001</td>\n",
              "      <td>1/4/2018</td>\n",
              "      <td>3</td>\n",
              "      <td>weekday</td>\n",
              "      <td>104</td>\n",
              "      <td>104</td>\n",
              "      <td>25</td>\n",
              "      <td>21</td>\n",
              "    </tr>\n",
              "    <tr>\n",
              "      <th>2018-01-05</th>\n",
              "      <td>75001</td>\n",
              "      <td>1/5/2018</td>\n",
              "      <td>4</td>\n",
              "      <td>weekday</td>\n",
              "      <td>114</td>\n",
              "      <td>117</td>\n",
              "      <td>18</td>\n",
              "      <td>20</td>\n",
              "    </tr>\n",
              "  </tbody>\n",
              "</table>\n",
              "</div>"
            ],
            "text/plain": [
              "            postal_code      date  ...  slots_freed_sum slots_taken_sum\n",
              "date                               ...                                 \n",
              "2018-01-01        75001  1/1/2018  ...               22              20\n",
              "2018-01-02        75001  1/2/2018  ...               23              22\n",
              "2018-01-03        75001  1/3/2018  ...               27              27\n",
              "2018-01-04        75001  1/4/2018  ...               25              21\n",
              "2018-01-05        75001  1/5/2018  ...               18              20\n",
              "\n",
              "[5 rows x 8 columns]"
            ]
          },
          "metadata": {
            "tags": []
          },
          "execution_count": 2067
        }
      ]
    },
    {
      "cell_type": "code",
      "metadata": {
        "id": "jEJEQuPj0Pp-",
        "colab_type": "code",
        "colab": {}
      },
      "source": [
        "#Change the postal code \n",
        "convert_dict = {'postal_code': str\n",
        "               } \n",
        "  \n",
        "df= df.astype(convert_dict) "
      ],
      "execution_count": 2068,
      "outputs": []
    },
    {
      "cell_type": "markdown",
      "metadata": {
        "id": "YhSqud8pBOCn",
        "colab_type": "text"
      },
      "source": [
        "#Central tendency "
      ]
    },
    {
      "cell_type": "code",
      "metadata": {
        "id": "LjhW_m91WqFC",
        "colab_type": "code",
        "colab": {
          "base_uri": "https://localhost:8080/",
          "height": 0
        },
        "outputId": "d5a41caa-a007-414a-e5b8-8aa12af6af49"
      },
      "source": [
        "df.mean()"
      ],
      "execution_count": 2069,
      "outputs": [
        {
          "output_type": "execute_result",
          "data": {
            "text/plain": [
              "postal_code                     inf\n",
              "dayofweek                  2.969599\n",
              "bluecars_taken_sum       125.926951\n",
              "bluecars_returned_sum    125.912714\n",
              "slots_freed_sum           22.629033\n",
              "slots_taken_sum           22.629282\n",
              "dtype: float64"
            ]
          },
          "metadata": {
            "tags": []
          },
          "execution_count": 2069
        }
      ]
    },
    {
      "cell_type": "code",
      "metadata": {
        "id": "mNJ8-TPWW-7T",
        "colab_type": "code",
        "colab": {
          "base_uri": "https://localhost:8080/",
          "height": 0
        },
        "outputId": "3f87720d-35c2-469d-ddbd-9fab1b5bdd40"
      },
      "source": [
        "df.mode()"
      ],
      "execution_count": 2070,
      "outputs": [
        {
          "output_type": "execute_result",
          "data": {
            "text/html": [
              "<div>\n",
              "<style scoped>\n",
              "    .dataframe tbody tr th:only-of-type {\n",
              "        vertical-align: middle;\n",
              "    }\n",
              "\n",
              "    .dataframe tbody tr th {\n",
              "        vertical-align: top;\n",
              "    }\n",
              "\n",
              "    .dataframe thead th {\n",
              "        text-align: right;\n",
              "    }\n",
              "</style>\n",
              "<table border=\"1\" class=\"dataframe\">\n",
              "  <thead>\n",
              "    <tr style=\"text-align: right;\">\n",
              "      <th></th>\n",
              "      <th>postal_code</th>\n",
              "      <th>date</th>\n",
              "      <th>dayofweek</th>\n",
              "      <th>day_type</th>\n",
              "      <th>bluecars_taken_sum</th>\n",
              "      <th>bluecars_returned_sum</th>\n",
              "      <th>slots_freed_sum</th>\n",
              "      <th>slots_taken_sum</th>\n",
              "    </tr>\n",
              "  </thead>\n",
              "  <tbody>\n",
              "    <tr>\n",
              "      <th>0</th>\n",
              "      <td>75001</td>\n",
              "      <td>1/24/2018</td>\n",
              "      <td>0.0</td>\n",
              "      <td>weekday</td>\n",
              "      <td>12.0</td>\n",
              "      <td>13.0</td>\n",
              "      <td>0.0</td>\n",
              "      <td>0.0</td>\n",
              "    </tr>\n",
              "    <tr>\n",
              "      <th>1</th>\n",
              "      <td>75002</td>\n",
              "      <td>1/25/2018</td>\n",
              "      <td>NaN</td>\n",
              "      <td>NaN</td>\n",
              "      <td>NaN</td>\n",
              "      <td>NaN</td>\n",
              "      <td>NaN</td>\n",
              "      <td>NaN</td>\n",
              "    </tr>\n",
              "    <tr>\n",
              "      <th>2</th>\n",
              "      <td>75003</td>\n",
              "      <td>1/27/2018</td>\n",
              "      <td>NaN</td>\n",
              "      <td>NaN</td>\n",
              "      <td>NaN</td>\n",
              "      <td>NaN</td>\n",
              "      <td>NaN</td>\n",
              "      <td>NaN</td>\n",
              "    </tr>\n",
              "    <tr>\n",
              "      <th>3</th>\n",
              "      <td>75004</td>\n",
              "      <td>1/28/2018</td>\n",
              "      <td>NaN</td>\n",
              "      <td>NaN</td>\n",
              "      <td>NaN</td>\n",
              "      <td>NaN</td>\n",
              "      <td>NaN</td>\n",
              "      <td>NaN</td>\n",
              "    </tr>\n",
              "    <tr>\n",
              "      <th>4</th>\n",
              "      <td>75005</td>\n",
              "      <td>1/29/2018</td>\n",
              "      <td>NaN</td>\n",
              "      <td>NaN</td>\n",
              "      <td>NaN</td>\n",
              "      <td>NaN</td>\n",
              "      <td>NaN</td>\n",
              "      <td>NaN</td>\n",
              "    </tr>\n",
              "    <tr>\n",
              "      <th>...</th>\n",
              "      <td>...</td>\n",
              "      <td>...</td>\n",
              "      <td>...</td>\n",
              "      <td>...</td>\n",
              "      <td>...</td>\n",
              "      <td>...</td>\n",
              "      <td>...</td>\n",
              "      <td>...</td>\n",
              "    </tr>\n",
              "    <tr>\n",
              "      <th>84</th>\n",
              "      <td>94700</td>\n",
              "      <td>NaN</td>\n",
              "      <td>NaN</td>\n",
              "      <td>NaN</td>\n",
              "      <td>NaN</td>\n",
              "      <td>NaN</td>\n",
              "      <td>NaN</td>\n",
              "      <td>NaN</td>\n",
              "    </tr>\n",
              "    <tr>\n",
              "      <th>85</th>\n",
              "      <td>94800</td>\n",
              "      <td>NaN</td>\n",
              "      <td>NaN</td>\n",
              "      <td>NaN</td>\n",
              "      <td>NaN</td>\n",
              "      <td>NaN</td>\n",
              "      <td>NaN</td>\n",
              "      <td>NaN</td>\n",
              "    </tr>\n",
              "    <tr>\n",
              "      <th>86</th>\n",
              "      <td>95100</td>\n",
              "      <td>NaN</td>\n",
              "      <td>NaN</td>\n",
              "      <td>NaN</td>\n",
              "      <td>NaN</td>\n",
              "      <td>NaN</td>\n",
              "      <td>NaN</td>\n",
              "      <td>NaN</td>\n",
              "    </tr>\n",
              "    <tr>\n",
              "      <th>87</th>\n",
              "      <td>95870</td>\n",
              "      <td>NaN</td>\n",
              "      <td>NaN</td>\n",
              "      <td>NaN</td>\n",
              "      <td>NaN</td>\n",
              "      <td>NaN</td>\n",
              "      <td>NaN</td>\n",
              "      <td>NaN</td>\n",
              "    </tr>\n",
              "    <tr>\n",
              "      <th>88</th>\n",
              "      <td>95880</td>\n",
              "      <td>NaN</td>\n",
              "      <td>NaN</td>\n",
              "      <td>NaN</td>\n",
              "      <td>NaN</td>\n",
              "      <td>NaN</td>\n",
              "      <td>NaN</td>\n",
              "      <td>NaN</td>\n",
              "    </tr>\n",
              "  </tbody>\n",
              "</table>\n",
              "<p>89 rows × 8 columns</p>\n",
              "</div>"
            ],
            "text/plain": [
              "   postal_code       date  ...  slots_freed_sum slots_taken_sum\n",
              "0        75001  1/24/2018  ...              0.0             0.0\n",
              "1        75002  1/25/2018  ...              NaN             NaN\n",
              "2        75003  1/27/2018  ...              NaN             NaN\n",
              "3        75004  1/28/2018  ...              NaN             NaN\n",
              "4        75005  1/29/2018  ...              NaN             NaN\n",
              "..         ...        ...  ...              ...             ...\n",
              "84       94700        NaN  ...              NaN             NaN\n",
              "85       94800        NaN  ...              NaN             NaN\n",
              "86       95100        NaN  ...              NaN             NaN\n",
              "87       95870        NaN  ...              NaN             NaN\n",
              "88       95880        NaN  ...              NaN             NaN\n",
              "\n",
              "[89 rows x 8 columns]"
            ]
          },
          "metadata": {
            "tags": []
          },
          "execution_count": 2070
        }
      ]
    },
    {
      "cell_type": "code",
      "metadata": {
        "id": "Csf9Z4E9XDbS",
        "colab_type": "code",
        "colab": {
          "base_uri": "https://localhost:8080/",
          "height": 0
        },
        "outputId": "037f669f-98aa-48d4-c504-3184c97904ae"
      },
      "source": [
        "df.std()"
      ],
      "execution_count": 2071,
      "outputs": [
        {
          "output_type": "execute_result",
          "data": {
            "text/plain": [
              "dayofweek                  2.008378\n",
              "bluecars_taken_sum       185.426579\n",
              "bluecars_returned_sum    185.501535\n",
              "slots_freed_sum           52.120263\n",
              "slots_taken_sum           52.146030\n",
              "dtype: float64"
            ]
          },
          "metadata": {
            "tags": []
          },
          "execution_count": 2071
        }
      ]
    },
    {
      "cell_type": "code",
      "metadata": {
        "id": "TMjAPF6oZ_AG",
        "colab_type": "code",
        "colab": {
          "base_uri": "https://localhost:8080/",
          "height": 0
        },
        "outputId": "e2aefd12-fe61-46b7-fd9f-6414be3a1f6d"
      },
      "source": [
        "df.skew()"
      ],
      "execution_count": 2072,
      "outputs": [
        {
          "output_type": "execute_result",
          "data": {
            "text/plain": [
              "postal_code             -1.168778\n",
              "dayofweek                0.018824\n",
              "bluecars_taken_sum       2.406355\n",
              "bluecars_returned_sum    2.412085\n",
              "slots_freed_sum          2.597406\n",
              "slots_taken_sum          2.596904\n",
              "dtype: float64"
            ]
          },
          "metadata": {
            "tags": []
          },
          "execution_count": 2072
        }
      ]
    },
    {
      "cell_type": "code",
      "metadata": {
        "id": "bW1zUinJaBlW",
        "colab_type": "code",
        "colab": {
          "base_uri": "https://localhost:8080/",
          "height": 0
        },
        "outputId": "dcac7f64-e113-4686-d7c1-d22649bbb947"
      },
      "source": [
        "df.var()"
      ],
      "execution_count": 2073,
      "outputs": [
        {
          "output_type": "execute_result",
          "data": {
            "text/plain": [
              "dayofweek                    4.033582\n",
              "bluecars_taken_sum       34383.016113\n",
              "bluecars_returned_sum    34410.819414\n",
              "slots_freed_sum           2716.521850\n",
              "slots_taken_sum           2719.208431\n",
              "dtype: float64"
            ]
          },
          "metadata": {
            "tags": []
          },
          "execution_count": 2073
        }
      ]
    },
    {
      "cell_type": "markdown",
      "metadata": {
        "id": "wXajQxkd_iBt",
        "colab_type": "text"
      },
      "source": [
        "# Outliers and Anomalies "
      ]
    },
    {
      "cell_type": "markdown",
      "metadata": {
        "id": "6Vz-GOLF7kyB",
        "colab_type": "text"
      },
      "source": [
        "Detecting outliers "
      ]
    },
    {
      "cell_type": "code",
      "metadata": {
        "id": "XsBVxSepqqY1",
        "colab_type": "code",
        "colab": {
          "base_uri": "https://localhost:8080/",
          "height": 0
        },
        "outputId": "0a1577f7-fb67-4843-f46a-ea635f1d24ee"
      },
      "source": [
        "# Checking for Outliers\n",
        "fig, ((ax1, ax2), (ax3, ax4)) = plt.subplots(2,2, figsize=(20, 14))\n",
        "fig.suptitle('Boxplots')\n",
        "sns.boxplot(df['bluecars_taken_sum'], ax=ax1)\n",
        "sns.boxplot(df['bluecars_returned_sum'], ax=ax2)\n",
        "sns.boxplot(df['slots_freed_sum'], ax=ax3)\n",
        "sns.boxplot(df['slots_taken_sum'], ax=ax4)\n",
        "\n",
        "plt.show()"
      ],
      "execution_count": 2074,
      "outputs": [
        {
          "output_type": "display_data",
          "data": {
            "image/png": "[encoded data removed]",
            "text/plain": [
              "<Figure size 1440x1008 with 4 Axes>"
            ]
          },
          "metadata": {
            "tags": [],
            "needs_background": "light"
          }
        }
      ]
    },
    {
      "cell_type": "markdown",
      "metadata": {
        "id": "08vRgRKceJvn",
        "colab_type": "text"
      },
      "source": [
        "The data has so many outliers especially to the right. If we remove the outliers we might interfere with the validity of the data. "
      ]
    },
    {
      "cell_type": "markdown",
      "metadata": {
        "id": "oW0lcvCoLIbw",
        "colab_type": "text"
      },
      "source": [
        "Checking for Anomalies"
      ]
    },
    {
      "cell_type": "code",
      "metadata": {
        "id": "FhvaVAM99MZh",
        "colab_type": "code",
        "colab": {
          "base_uri": "https://localhost:8080/",
          "height": 0
        },
        "outputId": "caefbced-78e3-48f3-df61-dd40c5a73a38"
      },
      "source": [
        "# Calculating our first, third quantiles and then later our IQR\n",
        "\n",
        "#\n",
        "Q1= df.quantile(0.25)\n",
        "Q3 =df.quantile(0.75)\n",
        "IQR = Q3-Q1\n",
        "print(Q1)\n",
        "print('----------------------------------------')\n",
        "print(Q3)\n",
        "print('----------------------------------------')\n",
        "print(IQR)"
      ],
      "execution_count": 2075,
      "outputs": [
        {
          "output_type": "stream",
          "text": [
            "dayofweek                 1.0\n",
            "bluecars_taken_sum       20.0\n",
            "bluecars_returned_sum    20.0\n",
            "slots_freed_sum           0.0\n",
            "slots_taken_sum           0.0\n",
            "Name: 0.25, dtype: float64\n",
            "----------------------------------------\n",
            "dayofweek                  5.0\n",
            "bluecars_taken_sum       135.0\n",
            "bluecars_returned_sum    135.0\n",
            "slots_freed_sum            5.0\n",
            "slots_taken_sum            5.0\n",
            "Name: 0.75, dtype: float64\n",
            "----------------------------------------\n",
            "dayofweek                  4.0\n",
            "bluecars_taken_sum       115.0\n",
            "bluecars_returned_sum    115.0\n",
            "slots_freed_sum            5.0\n",
            "slots_taken_sum            5.0\n",
            "dtype: float64\n"
          ],
          "name": "stdout"
        }
      ]
    },
    {
      "cell_type": "markdown",
      "metadata": {
        "id": "8zSKtD2dDGLU",
        "colab_type": "text"
      },
      "source": [
        "There are no extreme anomalies. I can proceed with analysis. "
      ]
    },
    {
      "cell_type": "markdown",
      "metadata": {
        "id": "sPrA49EH_qGl",
        "colab_type": "text"
      },
      "source": [
        "# Univariate and Bivariate Analysis "
      ]
    },
    {
      "cell_type": "markdown",
      "metadata": {
        "id": "0U2SGcfO_vgM",
        "colab_type": "text"
      },
      "source": [
        "**Univariate Analysis**"
      ]
    },
    {
      "cell_type": "code",
      "metadata": {
        "id": "YJAi1xEfBan3",
        "colab_type": "code",
        "colab": {
          "base_uri": "https://localhost:8080/",
          "height": 0
        },
        "outputId": "cc37cbb2-bf82-4c07-d472-20269cf2d29b"
      },
      "source": [
        "GB=df.groupby([df.index.month]).sum()\n",
        "GB\n",
        "\n",
        "GB.rename(index={1: '2018/01', 2: '2018/02', 3: '2018/03', 4: '2018/04', 5: '2018/06', 6: '2018/06'})\n"
      ],
      "execution_count": 2076,
      "outputs": [
        {
          "output_type": "execute_result",
          "data": {
            "text/html": [
              "<div>\n",
              "<style scoped>\n",
              "    .dataframe tbody tr th:only-of-type {\n",
              "        vertical-align: middle;\n",
              "    }\n",
              "\n",
              "    .dataframe tbody tr th {\n",
              "        vertical-align: top;\n",
              "    }\n",
              "\n",
              "    .dataframe thead th {\n",
              "        text-align: right;\n",
              "    }\n",
              "</style>\n",
              "<table border=\"1\" class=\"dataframe\">\n",
              "  <thead>\n",
              "    <tr style=\"text-align: right;\">\n",
              "      <th></th>\n",
              "      <th>dayofweek</th>\n",
              "      <th>bluecars_taken_sum</th>\n",
              "      <th>bluecars_returned_sum</th>\n",
              "      <th>slots_freed_sum</th>\n",
              "      <th>slots_taken_sum</th>\n",
              "    </tr>\n",
              "    <tr>\n",
              "      <th>date</th>\n",
              "      <th></th>\n",
              "      <th></th>\n",
              "      <th></th>\n",
              "      <th></th>\n",
              "      <th></th>\n",
              "    </tr>\n",
              "  </thead>\n",
              "  <tbody>\n",
              "    <tr>\n",
              "      <th>2018/01</th>\n",
              "      <td>8972</td>\n",
              "      <td>403174</td>\n",
              "      <td>403301</td>\n",
              "      <td>69310</td>\n",
              "      <td>69272</td>\n",
              "    </tr>\n",
              "    <tr>\n",
              "      <th>2018/02</th>\n",
              "      <td>7918</td>\n",
              "      <td>309708</td>\n",
              "      <td>309449</td>\n",
              "      <td>56887</td>\n",
              "      <td>56902</td>\n",
              "    </tr>\n",
              "    <tr>\n",
              "      <th>2018/03</th>\n",
              "      <td>9869</td>\n",
              "      <td>405231</td>\n",
              "      <td>405480</td>\n",
              "      <td>74558</td>\n",
              "      <td>74525</td>\n",
              "    </tr>\n",
              "    <tr>\n",
              "      <th>2018/04</th>\n",
              "      <td>9285</td>\n",
              "      <td>385103</td>\n",
              "      <td>384811</td>\n",
              "      <td>68685</td>\n",
              "      <td>68772</td>\n",
              "    </tr>\n",
              "    <tr>\n",
              "      <th>2018/06</th>\n",
              "      <td>5720</td>\n",
              "      <td>264814</td>\n",
              "      <td>264499</td>\n",
              "      <td>48068</td>\n",
              "      <td>48002</td>\n",
              "    </tr>\n",
              "    <tr>\n",
              "      <th>2018/06</th>\n",
              "      <td>6002</td>\n",
              "      <td>257505</td>\n",
              "      <td>257766</td>\n",
              "      <td>46480</td>\n",
              "      <td>46519</td>\n",
              "    </tr>\n",
              "  </tbody>\n",
              "</table>\n",
              "</div>"
            ],
            "text/plain": [
              "         dayofweek  bluecars_taken_sum  ...  slots_freed_sum  slots_taken_sum\n",
              "date                                    ...                                  \n",
              "2018/01       8972              403174  ...            69310            69272\n",
              "2018/02       7918              309708  ...            56887            56902\n",
              "2018/03       9869              405231  ...            74558            74525\n",
              "2018/04       9285              385103  ...            68685            68772\n",
              "2018/06       5720              264814  ...            48068            48002\n",
              "2018/06       6002              257505  ...            46480            46519\n",
              "\n",
              "[6 rows x 5 columns]"
            ]
          },
          "metadata": {
            "tags": []
          },
          "execution_count": 2076
        }
      ]
    },
    {
      "cell_type": "markdown",
      "metadata": {
        "id": "MScY2v23zL4j",
        "colab_type": "text"
      },
      "source": [
        "Bluecars taken "
      ]
    },
    {
      "cell_type": "code",
      "metadata": {
        "id": "rBvaOHbZtGVB",
        "colab_type": "code",
        "colab": {
          "base_uri": "https://localhost:8080/",
          "height": 0
        },
        "outputId": "7b88b2a0-da23-4beb-a8b1-1f36403eeddf"
      },
      "source": [
        "df[['bluecars_taken_sum']].plot(figsize=(20,10), linewidth=5, fontsize=20, color='grey')\n",
        "plt.xlabel(\"Month\", fontsize=20)\n",
        "plt.ylabel(\"Bluecars taken\", fontsize=20)\n",
        "plt.title(\"How  bluecars were taken \")\n",
        "plt.show()"
      ],
      "execution_count": 2077,
      "outputs": [
        {
          "output_type": "display_data",
          "data": {
            "image/png": "[encoded data removed]",
            "text/plain": [
              "<Figure size 1440x720 with 1 Axes>"
            ]
          },
          "metadata": {
            "tags": [],
            "needs_background": "light"
          }
        }
      ]
    },
    {
      "cell_type": "code",
      "metadata": {
        "id": "lTbnUoqOCE4M",
        "colab_type": "code",
        "colab": {
          "base_uri": "https://localhost:8080/",
          "height": 0
        },
        "outputId": "52c79368-ad92-4e1c-897c-bb3cf8914bdb"
      },
      "source": [
        "#GB.plot(kind='bar',x= 'date', y='bluecars_taken_sum' ,figsize=(20,10), linewidth=5, fontsize=20)\n",
        "#plt.bar(languages, performance, color='yellow')\n",
        "plt.bar(GB.index, GB.bluecars_taken_sum , color='green')\n",
        "plt.xlabel(\"Month\", fontsize=20)\n",
        "plt.ylabel(\"Bluecars taken\", fontsize=20)\n",
        "plt.title(\"Total number of bluecars taken per month \")\n",
        "plt.show()\n"
      ],
      "execution_count": 2078,
      "outputs": [
        {
          "output_type": "display_data",
          "data": {
            "image/png": "[encoded data removed]",
            "text/plain": [
              "<Figure size 432x288 with 1 Axes>"
            ]
          },
          "metadata": {
            "tags": [],
            "needs_background": "light"
          }
        }
      ]
    },
    {
      "cell_type": "markdown",
      "metadata": {
        "id": "9woZodP8zTZr",
        "colab_type": "text"
      },
      "source": [
        "Bluecars returned"
      ]
    },
    {
      "cell_type": "code",
      "metadata": {
        "id": "Ut0zfu1DOXHu",
        "colab_type": "code",
        "colab": {
          "base_uri": "https://localhost:8080/",
          "height": 0
        },
        "outputId": "81345034-f30c-4789-e57c-3c32258d4edf"
      },
      "source": [
        "df[['bluecars_returned_sum']].plot(figsize=(20,10), linewidth=5, fontsize=20, color='grey')\n",
        "plt.xlabel(\"Month\", fontsize=20)\n",
        "plt.ylabel(\"Bluecars returned\", fontsize=20)\n",
        "plt.title(\"How bluecars were returned \")\n",
        "plt.show()"
      ],
      "execution_count": 2079,
      "outputs": [
        {
          "output_type": "display_data",
          "data": {
            "image/png": "[encoded data removed]",
            "text/plain": [
              "<Figure size 1440x720 with 1 Axes>"
            ]
          },
          "metadata": {
            "tags": [],
            "needs_background": "light"
          }
        }
      ]
    },
    {
      "cell_type": "code",
      "metadata": {
        "id": "ngjfWpNxtN8a",
        "colab_type": "code",
        "colab": {
          "base_uri": "https://localhost:8080/",
          "height": 0
        },
        "outputId": "ddf7cf9f-7a1c-4ff1-d181-59aa5baa165d"
      },
      "source": [
        "#GB.plot(kind='bar',x= 'date', y='bluecars_taken_sum' ,figsize=(20,10), linewidth=5, fontsize=20)\n",
        "#plt.bar(languages, performance, color='yellow')\n",
        "plt.bar(GB.index, GB.bluecars_returned_sum,  color='green')\n",
        "plt.xlabel(\"Month\", fontsize=20)\n",
        "plt.ylabel(\"Bluecars taken\", fontsize=20)\n",
        "plt.title(\"Total number of bluecars returned per month \")\n",
        "plt.show()"
      ],
      "execution_count": 2080,
      "outputs": [
        {
          "output_type": "display_data",
          "data": {
            "image/png": "[encoded data removed]",
            "text/plain": [
              "<Figure size 432x288 with 1 Axes>"
            ]
          },
          "metadata": {
            "tags": [],
            "needs_background": "light"
          }
        }
      ]
    },
    {
      "cell_type": "markdown",
      "metadata": {
        "id": "3V2LVc9aaEv3",
        "colab_type": "text"
      },
      "source": [
        "Slots freed"
      ]
    },
    {
      "cell_type": "code",
      "metadata": {
        "id": "W5GawJKNwCoE",
        "colab_type": "code",
        "colab": {
          "base_uri": "https://localhost:8080/",
          "height": 0
        },
        "outputId": "0ee6c438-f4f9-4fe6-f0b0-e9640316d62d"
      },
      "source": [
        "df[['slots_freed_sum']].plot(figsize=(20,10), linewidth=5, fontsize=20, color='grey')\n",
        "plt.xlabel(\"Month\", fontsize=20)\n",
        "plt.ylabel(\"utilib 14 returned\", fontsize=20)\n",
        "plt.title(\"How utilib 14 were returned \")\n",
        "plt.show()"
      ],
      "execution_count": 2081,
      "outputs": [
        {
          "output_type": "display_data",
          "data": {
            "image/png": "[encoded data removed]",
            "text/plain": [
              "<Figure size 1440x720 with 1 Axes>"
            ]
          },
          "metadata": {
            "tags": [],
            "needs_background": "light"
          }
        }
      ]
    },
    {
      "cell_type": "code",
      "metadata": {
        "id": "fugoUnz5bFSj",
        "colab_type": "code",
        "colab": {
          "base_uri": "https://localhost:8080/",
          "height": 0
        },
        "outputId": "f51a275e-ebf7-4307-f5ae-a83ab1fb2dbe"
      },
      "source": [
        "plt.bar(GB.index, GB.slots_freed_sum , color='green')\n",
        "plt.xlabel(\"Month\", fontsize=20)\n",
        "plt.ylabel(\"slots freed\", fontsize=20)\n",
        "plt.title(\"Total number of slots freed per month\")\n",
        "plt.show()"
      ],
      "execution_count": 2082,
      "outputs": [
        {
          "output_type": "display_data",
          "data": {
            "image/png": "[encoded data removed]",
            "text/plain": [
              "<Figure size 432x288 with 1 Axes>"
            ]
          },
          "metadata": {
            "tags": [],
            "needs_background": "light"
          }
        }
      ]
    },
    {
      "cell_type": "markdown",
      "metadata": {
        "id": "gqJNDR6UO8Dc",
        "colab_type": "text"
      },
      "source": [
        "Slots taken "
      ]
    },
    {
      "cell_type": "code",
      "metadata": {
        "id": "YDvEbmnV6Q1O",
        "colab_type": "code",
        "colab": {
          "base_uri": "https://localhost:8080/",
          "height": 0
        },
        "outputId": "ee56d77f-422d-4043-f1c9-2ce41cd0ae04"
      },
      "source": [
        "df[['slots_taken_sum']].plot(figsize=(20,10), linewidth=5, fontsize=20, color='grey')\n",
        "plt.xlabel(\"Month\", fontsize=20)\n",
        "plt.ylabel(\"utilib 14 returned\", fontsize=20)\n",
        "plt.title(\"How utilib 14 were returned \")\n",
        "plt.show()"
      ],
      "execution_count": 2083,
      "outputs": [
        {
          "output_type": "display_data",
          "data": {
            "image/png": "[encoded data removed]",
            "text/plain": [
              "<Figure size 1440x720 with 1 Axes>"
            ]
          },
          "metadata": {
            "tags": [],
            "needs_background": "light"
          }
        }
      ]
    },
    {
      "cell_type": "code",
      "metadata": {
        "id": "wJ9aIKtOPDIs",
        "colab_type": "code",
        "colab": {
          "base_uri": "https://localhost:8080/",
          "height": 0
        },
        "outputId": "08262459-1dc5-48b1-ebaf-ed4a5fdba35b"
      },
      "source": [
        "plt.bar(GB.index, GB.slots_taken_sum , color='green')\n",
        "plt.xlabel(\"Month\", fontsize=20)\n",
        "plt.ylabel(\"slots taken\", fontsize=20)\n",
        "plt.title(\"Total number of slots taken per month\")\n",
        "plt.show()"
      ],
      "execution_count": 2084,
      "outputs": [
        {
          "output_type": "display_data",
          "data": {
            "image/png": "[encoded data removed]",
            "text/plain": [
              "<Figure size 432x288 with 1 Axes>"
            ]
          },
          "metadata": {
            "tags": [],
            "needs_background": "light"
          }
        }
      ]
    },
    {
      "cell_type": "markdown",
      "metadata": {
        "id": "AmTrlH2EdnnO",
        "colab_type": "text"
      },
      "source": [
        "Our univariate analysis shows that more cars were picked and returned on March and April and that May and June had almost the same  number of cars being picked and returned "
      ]
    },
    {
      "cell_type": "markdown",
      "metadata": {
        "id": "njXoTIPn6alY",
        "colab_type": "text"
      },
      "source": [
        "**Bivariate Analysis**"
      ]
    },
    {
      "cell_type": "code",
      "metadata": {
        "id": "o6NCtDQVRGNc",
        "colab_type": "code",
        "colab": {
          "base_uri": "https://localhost:8080/",
          "height": 0
        },
        "outputId": "99d2f1ee-9391-4995-843c-79198edc09ee"
      },
      "source": [
        "# Ploting the bivariate summaries and recording our observations\n",
        "g = sns.pairplot(df, diag_kind=\"kde\", hue=\"day_type\",vars=[\"bluecars_taken_sum\", \"bluecars_returned_sum\"])\n",
        "plt.show()"
      ],
      "execution_count": 2085,
      "outputs": [
        {
          "output_type": "display_data",
          "data": {
            "image/png": "[encoded data removed]",
            "text/plain": [
              "<Figure size 440.625x360 with 6 Axes>"
            ]
          },
          "metadata": {
            "tags": [],
            "needs_background": "light"
          }
        }
      ]
    },
    {
      "cell_type": "code",
      "metadata": {
        "id": "Ypl_Bv60bY_M",
        "colab_type": "code",
        "colab": {
          "base_uri": "https://localhost:8080/",
          "height": 0
        },
        "outputId": "f5601b09-8012-431c-95b0-9c73b2dd5733"
      },
      "source": [
        "# Ploting the bivariate summaries and recording our observations\n",
        "i = sns.pairplot(df, diag_kind=\"kde\", hue=\"day_type\",vars=[\"slots_freed_sum\", \"slots_taken_sum\"])\n",
        "plt.show()"
      ],
      "execution_count": 2086,
      "outputs": [
        {
          "output_type": "display_data",
          "data": {
            "image/png": "[encoded data removed]",
            "text/plain": [
              "<Figure size 440.625x360 with 6 Axes>"
            ]
          },
          "metadata": {
            "tags": [],
            "needs_background": "light"
          }
        }
      ]
    },
    {
      "cell_type": "code",
      "metadata": {
        "id": "AAH635BMBjzP",
        "colab_type": "code",
        "colab": {}
      },
      "source": [
        "bluecars = df[['bluecars_returned_sum', 'bluecars_taken_sum']]"
      ],
      "execution_count": 2087,
      "outputs": []
    },
    {
      "cell_type": "code",
      "metadata": {
        "id": "fTSoB4e6H172",
        "colab_type": "code",
        "colab": {}
      },
      "source": [
        "np.random.seed(15) \n",
        "sample = np.random.normal(loc=bluecar_mean, scale=1.0, size=310)"
      ],
      "execution_count": 2088,
      "outputs": []
    },
    {
      "cell_type": "code",
      "metadata": {
        "id": "5bvKGv0qB41f",
        "colab_type": "code",
        "colab": {}
      },
      "source": [
        "bluecars = df[['bluecars_returned_sum', 'bluecars_taken_sum']]"
      ],
      "execution_count": 2089,
      "outputs": []
    },
    {
      "cell_type": "code",
      "metadata": {
        "id": "eCgr7RDsAnb4",
        "colab_type": "code",
        "colab": {
          "base_uri": "https://localhost:8080/",
          "height": 0
        },
        "outputId": "00feab19-2e34-4ee1-cca3-cec9a5d3e361"
      },
      "source": [
        "#Heat map on respondent Age and household size\n",
        "sns.heatmap(bluecars.corr(),annot=True)\n",
        "plt.show()"
      ],
      "execution_count": 2090,
      "outputs": [
        {
          "output_type": "display_data",
          "data": {
            "image/png": "[encoded data removed]",
            "text/plain": [
              "<Figure size 432x288 with 2 Axes>"
            ]
          },
          "metadata": {
            "tags": [],
            "needs_background": "light"
          }
        }
      ]
    },
    {
      "cell_type": "code",
      "metadata": {
        "id": "uMdhj3D9CAr8",
        "colab_type": "code",
        "colab": {}
      },
      "source": [
        "slots = df[[\"slots_freed_sum\", \"slots_taken_sum\"]]\n"
      ],
      "execution_count": 2091,
      "outputs": []
    },
    {
      "cell_type": "code",
      "metadata": {
        "id": "K0U6MIOPCWXg",
        "colab_type": "code",
        "colab": {
          "base_uri": "https://localhost:8080/",
          "height": 0
        },
        "outputId": "8928f2f6-d3c9-4fda-b83a-7b770e9601de"
      },
      "source": [
        "#Heat map on respondent Age and household size\n",
        "sns.heatmap(slots.corr(),annot=True)\n",
        "plt.show()"
      ],
      "execution_count": 2092,
      "outputs": [
        {
          "output_type": "display_data",
          "data": {
            "image/png": "[encoded data removed]",
            "text/plain": [
              "<Figure size 432x288 with 2 Axes>"
            ]
          },
          "metadata": {
            "tags": [],
            "needs_background": "light"
          }
        }
      ]
    },
    {
      "cell_type": "markdown",
      "metadata": {
        "id": "bYITlXgpcs2X",
        "colab_type": "text"
      },
      "source": [
        "Our bivariate analysis shows that the more blue cars are returned the more they are taken. So there is a positive correlation between cars taken and returned \n",
        "\n",
        "Also, their is a positive correlation between slots freed and slots taken.\n",
        "\n",
        "\n"
      ]
    },
    {
      "cell_type": "markdown",
      "metadata": {
        "id": "g3pevb4k6RJt",
        "colab_type": "text"
      },
      "source": [
        "# Sampling Techniques "
      ]
    },
    {
      "cell_type": "code",
      "metadata": {
        "id": "cqJLB2HbJFKT",
        "colab_type": "code",
        "colab": {
          "base_uri": "https://localhost:8080/",
          "height": 252
        },
        "outputId": "20f5ca06-5fb2-4c16-e853-2e24f6bb7400"
      },
      "source": [
        "# Importing scipy.stats\n",
        "import scipy.stats as stats\n",
        "\n",
        "\n",
        "\n",
        "# Calculating the sample mean of final data\n",
        "#\n",
        "sample_mean = df.mean()\n",
        "print(sample_mean)\n",
        "\n",
        "\n",
        "# Finding the sample size\n",
        "#\n",
        "sample_size = len(df)\n",
        "print(sample_size)\n",
        "\n",
        "# Finding the standard error of the mean of data \n",
        "#\n",
        "std_error = df.std() / np.sqrt(sample_size)\n",
        "print(std_error)\n",
        "\n",
        "# Calculating the 95% Confidence Interval for mean data \n",
        "# To calculate the confidence interval, we will use the norm object from the statssubpackage. \n",
        "# The norm object has an interval() method that receives three inputs \n",
        "# – our chosen confidence interval 0.95, and the sample mean and standard error of the mean.  \n",
        "# \n",
        "#stats.norm.interval(0.95, loc=sample_mean, scale=std_error)"
      ],
      "execution_count": 2093,
      "outputs": [
        {
          "output_type": "stream",
          "text": [
            "postal_code                     inf\n",
            "dayofweek                  2.969599\n",
            "bluecars_taken_sum       125.926951\n",
            "bluecars_returned_sum    125.912714\n",
            "slots_freed_sum           22.629033\n",
            "slots_taken_sum           22.629282\n",
            "dtype: float64\n",
            "16085\n",
            "dayofweek                0.015836\n",
            "bluecars_taken_sum       1.462047\n",
            "bluecars_returned_sum    1.462638\n",
            "slots_freed_sum          0.410957\n",
            "slots_taken_sum          0.411160\n",
            "dtype: float64\n"
          ],
          "name": "stdout"
        }
      ]
    },
    {
      "cell_type": "markdown",
      "metadata": {
        "id": "xmO6YaE_A7tV",
        "colab_type": "text"
      },
      "source": [
        "Stratified sample"
      ]
    },
    {
      "cell_type": "code",
      "metadata": {
        "id": "sJJsuceM6Zin",
        "colab_type": "code",
        "colab": {
          "base_uri": "https://localhost:8080/",
          "height": 269
        },
        "outputId": "895e38b4-fde3-419a-9acf-732abf07d433"
      },
      "source": [
        "days= df.groupby(['day_type','postal_code']).apply(lambda y: y.sample(frac=0.1))\n",
        "\n",
        "\n",
        "# proportion of the non_stratified sample\n",
        "print(days['day_type'].value_counts())\n",
        "print(days['postal_code'].value_counts())\n"
      ],
      "execution_count": 2094,
      "outputs": [
        {
          "output_type": "stream",
          "text": [
            "weekday    1135\n",
            "weekend     414\n",
            "Name: day_type, dtype: int64\n",
            "92410    15\n",
            "92220    15\n",
            "92300    15\n",
            "95870    15\n",
            "92110    15\n",
            "         ..\n",
            "75008    15\n",
            "92340    14\n",
            "93370    14\n",
            "93200    13\n",
            "93390     8\n",
            "Name: postal_code, Length: 104, dtype: int64\n"
          ],
          "name": "stdout"
        }
      ]
    },
    {
      "cell_type": "code",
      "metadata": {
        "id": "AJgbkpg1Tijl",
        "colab_type": "code",
        "colab": {
          "base_uri": "https://localhost:8080/",
          "height": 329
        },
        "outputId": "46418afb-2fd4-4582-c8c2-8074aff371fa"
      },
      "source": [
        "days.head()"
      ],
      "execution_count": 2095,
      "outputs": [
        {
          "output_type": "execute_result",
          "data": {
            "text/html": [
              "<div>\n",
              "<style scoped>\n",
              "    .dataframe tbody tr th:only-of-type {\n",
              "        vertical-align: middle;\n",
              "    }\n",
              "\n",
              "    .dataframe tbody tr th {\n",
              "        vertical-align: top;\n",
              "    }\n",
              "\n",
              "    .dataframe thead th {\n",
              "        text-align: right;\n",
              "    }\n",
              "</style>\n",
              "<table border=\"1\" class=\"dataframe\">\n",
              "  <thead>\n",
              "    <tr style=\"text-align: right;\">\n",
              "      <th></th>\n",
              "      <th></th>\n",
              "      <th></th>\n",
              "      <th>postal_code</th>\n",
              "      <th>date</th>\n",
              "      <th>dayofweek</th>\n",
              "      <th>day_type</th>\n",
              "      <th>bluecars_taken_sum</th>\n",
              "      <th>bluecars_returned_sum</th>\n",
              "      <th>slots_freed_sum</th>\n",
              "      <th>slots_taken_sum</th>\n",
              "    </tr>\n",
              "    <tr>\n",
              "      <th>day_type</th>\n",
              "      <th>postal_code</th>\n",
              "      <th>date</th>\n",
              "      <th></th>\n",
              "      <th></th>\n",
              "      <th></th>\n",
              "      <th></th>\n",
              "      <th></th>\n",
              "      <th></th>\n",
              "      <th></th>\n",
              "      <th></th>\n",
              "    </tr>\n",
              "  </thead>\n",
              "  <tbody>\n",
              "    <tr>\n",
              "      <th rowspan=\"5\" valign=\"top\">weekday</th>\n",
              "      <th rowspan=\"5\" valign=\"top\">75001</th>\n",
              "      <th>2018-06-01</th>\n",
              "      <td>75001</td>\n",
              "      <td>6/1/2018</td>\n",
              "      <td>4</td>\n",
              "      <td>weekday</td>\n",
              "      <td>116</td>\n",
              "      <td>118</td>\n",
              "      <td>21</td>\n",
              "      <td>22</td>\n",
              "    </tr>\n",
              "    <tr>\n",
              "      <th>2018-06-18</th>\n",
              "      <td>75001</td>\n",
              "      <td>6/18/2018</td>\n",
              "      <td>0</td>\n",
              "      <td>weekday</td>\n",
              "      <td>122</td>\n",
              "      <td>120</td>\n",
              "      <td>22</td>\n",
              "      <td>22</td>\n",
              "    </tr>\n",
              "    <tr>\n",
              "      <th>2018-03-16</th>\n",
              "      <td>75001</td>\n",
              "      <td>3/16/2018</td>\n",
              "      <td>4</td>\n",
              "      <td>weekday</td>\n",
              "      <td>145</td>\n",
              "      <td>145</td>\n",
              "      <td>36</td>\n",
              "      <td>40</td>\n",
              "    </tr>\n",
              "    <tr>\n",
              "      <th>2018-03-22</th>\n",
              "      <td>75001</td>\n",
              "      <td>3/22/2018</td>\n",
              "      <td>3</td>\n",
              "      <td>weekday</td>\n",
              "      <td>143</td>\n",
              "      <td>142</td>\n",
              "      <td>22</td>\n",
              "      <td>24</td>\n",
              "    </tr>\n",
              "    <tr>\n",
              "      <th>2018-01-04</th>\n",
              "      <td>75001</td>\n",
              "      <td>1/4/2018</td>\n",
              "      <td>3</td>\n",
              "      <td>weekday</td>\n",
              "      <td>104</td>\n",
              "      <td>104</td>\n",
              "      <td>25</td>\n",
              "      <td>21</td>\n",
              "    </tr>\n",
              "  </tbody>\n",
              "</table>\n",
              "</div>"
            ],
            "text/plain": [
              "                                postal_code  ... slots_taken_sum\n",
              "day_type postal_code date                    ...                \n",
              "weekday  75001       2018-06-01       75001  ...              22\n",
              "                     2018-06-18       75001  ...              22\n",
              "                     2018-03-16       75001  ...              40\n",
              "                     2018-03-22       75001  ...              24\n",
              "                     2018-01-04       75001  ...              21\n",
              "\n",
              "[5 rows x 8 columns]"
            ]
          },
          "metadata": {
            "tags": []
          },
          "execution_count": 2095
        }
      ]
    },
    {
      "cell_type": "markdown",
      "metadata": {
        "id": "iVwaA9lbBHun",
        "colab_type": "text"
      },
      "source": [
        "Random sampling "
      ]
    },
    {
      "cell_type": "code",
      "metadata": {
        "id": "6hGEeArML7yH",
        "colab_type": "code",
        "colab": {
          "base_uri": "https://localhost:8080/",
          "height": 431
        },
        "outputId": "3bc31218-cbe3-4f65-e274-27b521e8cd7b"
      },
      "source": [
        "cols = ['postal_code', 'date','day_type', 'bluecars_taken_sum']\n",
        "bluecarstaken= days[cols]\n",
        "bluecarstaken"
      ],
      "execution_count": 2096,
      "outputs": [
        {
          "output_type": "execute_result",
          "data": {
            "text/html": [
              "<div>\n",
              "<style scoped>\n",
              "    .dataframe tbody tr th:only-of-type {\n",
              "        vertical-align: middle;\n",
              "    }\n",
              "\n",
              "    .dataframe tbody tr th {\n",
              "        vertical-align: top;\n",
              "    }\n",
              "\n",
              "    .dataframe thead th {\n",
              "        text-align: right;\n",
              "    }\n",
              "</style>\n",
              "<table border=\"1\" class=\"dataframe\">\n",
              "  <thead>\n",
              "    <tr style=\"text-align: right;\">\n",
              "      <th></th>\n",
              "      <th></th>\n",
              "      <th></th>\n",
              "      <th>postal_code</th>\n",
              "      <th>date</th>\n",
              "      <th>day_type</th>\n",
              "      <th>bluecars_taken_sum</th>\n",
              "    </tr>\n",
              "    <tr>\n",
              "      <th>day_type</th>\n",
              "      <th>postal_code</th>\n",
              "      <th>date</th>\n",
              "      <th></th>\n",
              "      <th></th>\n",
              "      <th></th>\n",
              "      <th></th>\n",
              "    </tr>\n",
              "  </thead>\n",
              "  <tbody>\n",
              "    <tr>\n",
              "      <th rowspan=\"5\" valign=\"top\">weekday</th>\n",
              "      <th rowspan=\"5\" valign=\"top\">75001</th>\n",
              "      <th>2018-06-01</th>\n",
              "      <td>75001</td>\n",
              "      <td>6/1/2018</td>\n",
              "      <td>weekday</td>\n",
              "      <td>116</td>\n",
              "    </tr>\n",
              "    <tr>\n",
              "      <th>2018-06-18</th>\n",
              "      <td>75001</td>\n",
              "      <td>6/18/2018</td>\n",
              "      <td>weekday</td>\n",
              "      <td>122</td>\n",
              "    </tr>\n",
              "    <tr>\n",
              "      <th>2018-03-16</th>\n",
              "      <td>75001</td>\n",
              "      <td>3/16/2018</td>\n",
              "      <td>weekday</td>\n",
              "      <td>145</td>\n",
              "    </tr>\n",
              "    <tr>\n",
              "      <th>2018-03-22</th>\n",
              "      <td>75001</td>\n",
              "      <td>3/22/2018</td>\n",
              "      <td>weekday</td>\n",
              "      <td>143</td>\n",
              "    </tr>\n",
              "    <tr>\n",
              "      <th>2018-01-04</th>\n",
              "      <td>75001</td>\n",
              "      <td>1/4/2018</td>\n",
              "      <td>weekday</td>\n",
              "      <td>104</td>\n",
              "    </tr>\n",
              "    <tr>\n",
              "      <th>...</th>\n",
              "      <th>...</th>\n",
              "      <th>...</th>\n",
              "      <td>...</td>\n",
              "      <td>...</td>\n",
              "      <td>...</td>\n",
              "      <td>...</td>\n",
              "    </tr>\n",
              "    <tr>\n",
              "      <th rowspan=\"5\" valign=\"top\">weekend</th>\n",
              "      <th>95870</th>\n",
              "      <th>2018-05-26</th>\n",
              "      <td>95870</td>\n",
              "      <td>5/26/2018</td>\n",
              "      <td>weekend</td>\n",
              "      <td>16</td>\n",
              "    </tr>\n",
              "    <tr>\n",
              "      <th rowspan=\"4\" valign=\"top\">95880</th>\n",
              "      <th>2018-01-07</th>\n",
              "      <td>95880</td>\n",
              "      <td>1/7/2018</td>\n",
              "      <td>weekend</td>\n",
              "      <td>28</td>\n",
              "    </tr>\n",
              "    <tr>\n",
              "      <th>2018-06-09</th>\n",
              "      <td>95880</td>\n",
              "      <td>6/9/2018</td>\n",
              "      <td>weekend</td>\n",
              "      <td>15</td>\n",
              "    </tr>\n",
              "    <tr>\n",
              "      <th>2018-04-01</th>\n",
              "      <td>95880</td>\n",
              "      <td>4/1/2018</td>\n",
              "      <td>weekend</td>\n",
              "      <td>49</td>\n",
              "    </tr>\n",
              "    <tr>\n",
              "      <th>2018-01-20</th>\n",
              "      <td>95880</td>\n",
              "      <td>1/20/2018</td>\n",
              "      <td>weekend</td>\n",
              "      <td>25</td>\n",
              "    </tr>\n",
              "  </tbody>\n",
              "</table>\n",
              "<p>1549 rows × 4 columns</p>\n",
              "</div>"
            ],
            "text/plain": [
              "                                postal_code  ... bluecars_taken_sum\n",
              "day_type postal_code date                    ...                   \n",
              "weekday  75001       2018-06-01       75001  ...                116\n",
              "                     2018-06-18       75001  ...                122\n",
              "                     2018-03-16       75001  ...                145\n",
              "                     2018-03-22       75001  ...                143\n",
              "                     2018-01-04       75001  ...                104\n",
              "...                                     ...  ...                ...\n",
              "weekend  95870       2018-05-26       95870  ...                 16\n",
              "         95880       2018-01-07       95880  ...                 28\n",
              "                     2018-06-09       95880  ...                 15\n",
              "                     2018-04-01       95880  ...                 49\n",
              "                     2018-01-20       95880  ...                 25\n",
              "\n",
              "[1549 rows x 4 columns]"
            ]
          },
          "metadata": {
            "tags": []
          },
          "execution_count": 2096
        }
      ]
    },
    {
      "cell_type": "code",
      "metadata": {
        "id": "79E7CRln2QPu",
        "colab_type": "code",
        "colab": {
          "base_uri": "https://localhost:8080/",
          "height": 34
        },
        "outputId": "07763b01-428a-4ce0-e102-346185b32500"
      },
      "source": [
        "# Importing scipy.stats\n",
        "import scipy.stats as stats\n",
        "\n",
        "\n",
        "# Calculating the sample mean of final data\n",
        "#\n",
        "sample_mean = bluecarstaken['bluecars_taken_sum'].mean()\n",
        "sample_mean\n",
        "\n",
        "# Finding the sample size\n",
        "#\n",
        "sample_size = bluecarstaken['bluecars_taken_sum'].shape[0]\n",
        "sample_size\n",
        "\n",
        "# Finding the standard error of the mean of data \n",
        "#\n",
        "std_error = bluecarstaken['bluecars_taken_sum'].std() / np.sqrt(sample_size)\n",
        "std_error\n",
        "\n",
        "# Calculating the 95% Confidence Interval for mean data \n",
        "stats.norm.interval(0.95, loc=sample_mean, scale=std_error)"
      ],
      "execution_count": 2097,
      "outputs": [
        {
          "output_type": "execute_result",
          "data": {
            "text/plain": [
              "(116.88592316893423, 135.36456101440987)"
            ]
          },
          "metadata": {
            "tags": []
          },
          "execution_count": 2097
        }
      ]
    },
    {
      "cell_type": "code",
      "metadata": {
        "id": "XLcZNL67MyfQ",
        "colab_type": "code",
        "colab": {
          "base_uri": "https://localhost:8080/",
          "height": 1000
        },
        "outputId": "cd570a5f-4a9c-4aba-8da9-e97229d3e9de"
      },
      "source": [
        "\n",
        "#bluecarstaken.loc[bluecarstaken['bluecars_taken_sum'] == sample]\n",
        "bluecars_sample= bluecarstaken.loc[(bluecarstaken['bluecars_taken_sum']> 116.88592316893423) &(bluecarstaken['bluecars_taken_sum']< 135.36456101440987)]\n",
        "bluecars_sample"
      ],
      "execution_count": 2098,
      "outputs": [
        {
          "output_type": "execute_result",
          "data": {
            "text/html": [
              "<div>\n",
              "<style scoped>\n",
              "    .dataframe tbody tr th:only-of-type {\n",
              "        vertical-align: middle;\n",
              "    }\n",
              "\n",
              "    .dataframe tbody tr th {\n",
              "        vertical-align: top;\n",
              "    }\n",
              "\n",
              "    .dataframe thead th {\n",
              "        text-align: right;\n",
              "    }\n",
              "</style>\n",
              "<table border=\"1\" class=\"dataframe\">\n",
              "  <thead>\n",
              "    <tr style=\"text-align: right;\">\n",
              "      <th></th>\n",
              "      <th></th>\n",
              "      <th></th>\n",
              "      <th>postal_code</th>\n",
              "      <th>date</th>\n",
              "      <th>day_type</th>\n",
              "      <th>bluecars_taken_sum</th>\n",
              "    </tr>\n",
              "    <tr>\n",
              "      <th>day_type</th>\n",
              "      <th>postal_code</th>\n",
              "      <th>date</th>\n",
              "      <th></th>\n",
              "      <th></th>\n",
              "      <th></th>\n",
              "      <th></th>\n",
              "    </tr>\n",
              "  </thead>\n",
              "  <tbody>\n",
              "    <tr>\n",
              "      <th rowspan=\"28\" valign=\"top\">weekday</th>\n",
              "      <th rowspan=\"4\" valign=\"top\">75001</th>\n",
              "      <th>2018-06-18</th>\n",
              "      <td>75001</td>\n",
              "      <td>6/18/2018</td>\n",
              "      <td>weekday</td>\n",
              "      <td>122</td>\n",
              "    </tr>\n",
              "    <tr>\n",
              "      <th>2018-03-09</th>\n",
              "      <td>75001</td>\n",
              "      <td>3/9/2018</td>\n",
              "      <td>weekday</td>\n",
              "      <td>135</td>\n",
              "    </tr>\n",
              "    <tr>\n",
              "      <th>2018-03-06</th>\n",
              "      <td>75001</td>\n",
              "      <td>3/6/2018</td>\n",
              "      <td>weekday</td>\n",
              "      <td>122</td>\n",
              "    </tr>\n",
              "    <tr>\n",
              "      <th>2018-03-01</th>\n",
              "      <td>75001</td>\n",
              "      <td>3/1/2018</td>\n",
              "      <td>weekday</td>\n",
              "      <td>127</td>\n",
              "    </tr>\n",
              "    <tr>\n",
              "      <th>75002</th>\n",
              "      <th>2018-04-19</th>\n",
              "      <td>75002</td>\n",
              "      <td>4/19/2018</td>\n",
              "      <td>weekday</td>\n",
              "      <td>131</td>\n",
              "    </tr>\n",
              "    <tr>\n",
              "      <th>92000</th>\n",
              "      <th>2018-03-26</th>\n",
              "      <td>92000</td>\n",
              "      <td>3/26/2018</td>\n",
              "      <td>weekday</td>\n",
              "      <td>120</td>\n",
              "    </tr>\n",
              "    <tr>\n",
              "      <th>92150</th>\n",
              "      <th>2018-05-01</th>\n",
              "      <td>92150</td>\n",
              "      <td>5/1/2018</td>\n",
              "      <td>weekday</td>\n",
              "      <td>123</td>\n",
              "    </tr>\n",
              "    <tr>\n",
              "      <th>92240</th>\n",
              "      <th>2018-01-29</th>\n",
              "      <td>92240</td>\n",
              "      <td>1/29/2018</td>\n",
              "      <td>weekday</td>\n",
              "      <td>126</td>\n",
              "    </tr>\n",
              "    <tr>\n",
              "      <th rowspan=\"3\" valign=\"top\">92300</th>\n",
              "      <th>2018-03-12</th>\n",
              "      <td>92300</td>\n",
              "      <td>3/12/2018</td>\n",
              "      <td>weekday</td>\n",
              "      <td>123</td>\n",
              "    </tr>\n",
              "    <tr>\n",
              "      <th>2018-04-16</th>\n",
              "      <td>92300</td>\n",
              "      <td>4/16/2018</td>\n",
              "      <td>weekday</td>\n",
              "      <td>134</td>\n",
              "    </tr>\n",
              "    <tr>\n",
              "      <th>2018-01-17</th>\n",
              "      <td>92300</td>\n",
              "      <td>1/17/2018</td>\n",
              "      <td>weekday</td>\n",
              "      <td>130</td>\n",
              "    </tr>\n",
              "    <tr>\n",
              "      <th>92400</th>\n",
              "      <th>2018-05-24</th>\n",
              "      <td>92400</td>\n",
              "      <td>5/24/2018</td>\n",
              "      <td>weekday</td>\n",
              "      <td>119</td>\n",
              "    </tr>\n",
              "    <tr>\n",
              "      <th rowspan=\"6\" valign=\"top\">92500</th>\n",
              "      <th>2018-03-14</th>\n",
              "      <td>92500</td>\n",
              "      <td>3/14/2018</td>\n",
              "      <td>weekday</td>\n",
              "      <td>122</td>\n",
              "    </tr>\n",
              "    <tr>\n",
              "      <th>2018-04-17</th>\n",
              "      <td>92500</td>\n",
              "      <td>4/17/2018</td>\n",
              "      <td>weekday</td>\n",
              "      <td>119</td>\n",
              "    </tr>\n",
              "    <tr>\n",
              "      <th>2018-04-04</th>\n",
              "      <td>92500</td>\n",
              "      <td>4/4/2018</td>\n",
              "      <td>weekday</td>\n",
              "      <td>126</td>\n",
              "    </tr>\n",
              "    <tr>\n",
              "      <th>2018-03-28</th>\n",
              "      <td>92500</td>\n",
              "      <td>3/28/2018</td>\n",
              "      <td>weekday</td>\n",
              "      <td>118</td>\n",
              "    </tr>\n",
              "    <tr>\n",
              "      <th>2018-03-23</th>\n",
              "      <td>92500</td>\n",
              "      <td>3/23/2018</td>\n",
              "      <td>weekday</td>\n",
              "      <td>135</td>\n",
              "    </tr>\n",
              "    <tr>\n",
              "      <th>2018-04-11</th>\n",
              "      <td>92500</td>\n",
              "      <td>4/11/2018</td>\n",
              "      <td>weekday</td>\n",
              "      <td>118</td>\n",
              "    </tr>\n",
              "    <tr>\n",
              "      <th rowspan=\"2\" valign=\"top\">92600</th>\n",
              "      <th>2018-02-21</th>\n",
              "      <td>92600</td>\n",
              "      <td>2/21/2018</td>\n",
              "      <td>weekday</td>\n",
              "      <td>123</td>\n",
              "    </tr>\n",
              "    <tr>\n",
              "      <th>2018-04-12</th>\n",
              "      <td>92600</td>\n",
              "      <td>4/12/2018</td>\n",
              "      <td>weekday</td>\n",
              "      <td>131</td>\n",
              "    </tr>\n",
              "    <tr>\n",
              "      <th rowspan=\"3\" valign=\"top\">92700</th>\n",
              "      <th>2018-05-21</th>\n",
              "      <td>92700</td>\n",
              "      <td>5/21/2018</td>\n",
              "      <td>weekday</td>\n",
              "      <td>122</td>\n",
              "    </tr>\n",
              "    <tr>\n",
              "      <th>2018-04-20</th>\n",
              "      <td>92700</td>\n",
              "      <td>4/20/2018</td>\n",
              "      <td>weekday</td>\n",
              "      <td>127</td>\n",
              "    </tr>\n",
              "    <tr>\n",
              "      <th>2018-06-12</th>\n",
              "      <td>92700</td>\n",
              "      <td>6/12/2018</td>\n",
              "      <td>weekday</td>\n",
              "      <td>123</td>\n",
              "    </tr>\n",
              "    <tr>\n",
              "      <th rowspan=\"4\" valign=\"top\">93100</th>\n",
              "      <th>2018-05-25</th>\n",
              "      <td>93100</td>\n",
              "      <td>5/25/2018</td>\n",
              "      <td>weekday</td>\n",
              "      <td>131</td>\n",
              "    </tr>\n",
              "    <tr>\n",
              "      <th>2018-03-16</th>\n",
              "      <td>93100</td>\n",
              "      <td>3/16/2018</td>\n",
              "      <td>weekday</td>\n",
              "      <td>128</td>\n",
              "    </tr>\n",
              "    <tr>\n",
              "      <th>2018-06-11</th>\n",
              "      <td>93100</td>\n",
              "      <td>6/11/2018</td>\n",
              "      <td>weekday</td>\n",
              "      <td>120</td>\n",
              "    </tr>\n",
              "    <tr>\n",
              "      <th>2018-02-15</th>\n",
              "      <td>93100</td>\n",
              "      <td>2/15/2018</td>\n",
              "      <td>weekday</td>\n",
              "      <td>118</td>\n",
              "    </tr>\n",
              "    <tr>\n",
              "      <th>93400</th>\n",
              "      <th>2018-05-02</th>\n",
              "      <td>93400</td>\n",
              "      <td>5/2/2018</td>\n",
              "      <td>weekday</td>\n",
              "      <td>126</td>\n",
              "    </tr>\n",
              "    <tr>\n",
              "      <th rowspan=\"9\" valign=\"top\">weekend</th>\n",
              "      <th>92000</th>\n",
              "      <th>2018-04-29</th>\n",
              "      <td>92000</td>\n",
              "      <td>4/29/2018</td>\n",
              "      <td>weekend</td>\n",
              "      <td>120</td>\n",
              "    </tr>\n",
              "    <tr>\n",
              "      <th rowspan=\"2\" valign=\"top\">92150</th>\n",
              "      <th>2018-03-04</th>\n",
              "      <td>92150</td>\n",
              "      <td>3/4/2018</td>\n",
              "      <td>weekend</td>\n",
              "      <td>117</td>\n",
              "    </tr>\n",
              "    <tr>\n",
              "      <th>2018-03-31</th>\n",
              "      <td>92150</td>\n",
              "      <td>3/31/2018</td>\n",
              "      <td>weekend</td>\n",
              "      <td>126</td>\n",
              "    </tr>\n",
              "    <tr>\n",
              "      <th>92210</th>\n",
              "      <th>2018-03-10</th>\n",
              "      <td>92210</td>\n",
              "      <td>3/10/2018</td>\n",
              "      <td>weekend</td>\n",
              "      <td>120</td>\n",
              "    </tr>\n",
              "    <tr>\n",
              "      <th rowspan=\"2\" valign=\"top\">92400</th>\n",
              "      <th>2018-05-06</th>\n",
              "      <td>92400</td>\n",
              "      <td>5/6/2018</td>\n",
              "      <td>weekend</td>\n",
              "      <td>134</td>\n",
              "    </tr>\n",
              "    <tr>\n",
              "      <th>2018-04-14</th>\n",
              "      <td>92400</td>\n",
              "      <td>4/14/2018</td>\n",
              "      <td>weekend</td>\n",
              "      <td>129</td>\n",
              "    </tr>\n",
              "    <tr>\n",
              "      <th>92800</th>\n",
              "      <th>2018-05-26</th>\n",
              "      <td>92800</td>\n",
              "      <td>5/26/2018</td>\n",
              "      <td>weekend</td>\n",
              "      <td>130</td>\n",
              "    </tr>\n",
              "    <tr>\n",
              "      <th>94300</th>\n",
              "      <th>2018-05-26</th>\n",
              "      <td>94300</td>\n",
              "      <td>5/26/2018</td>\n",
              "      <td>weekend</td>\n",
              "      <td>127</td>\n",
              "    </tr>\n",
              "    <tr>\n",
              "      <th>94800</th>\n",
              "      <th>2018-04-07</th>\n",
              "      <td>94800</td>\n",
              "      <td>4/7/2018</td>\n",
              "      <td>weekend</td>\n",
              "      <td>123</td>\n",
              "    </tr>\n",
              "  </tbody>\n",
              "</table>\n",
              "</div>"
            ],
            "text/plain": [
              "                                postal_code  ... bluecars_taken_sum\n",
              "day_type postal_code date                    ...                   \n",
              "weekday  75001       2018-06-18       75001  ...                122\n",
              "                     2018-03-09       75001  ...                135\n",
              "                     2018-03-06       75001  ...                122\n",
              "                     2018-03-01       75001  ...                127\n",
              "         75002       2018-04-19       75002  ...                131\n",
              "         92000       2018-03-26       92000  ...                120\n",
              "         92150       2018-05-01       92150  ...                123\n",
              "         92240       2018-01-29       92240  ...                126\n",
              "         92300       2018-03-12       92300  ...                123\n",
              "                     2018-04-16       92300  ...                134\n",
              "                     2018-01-17       92300  ...                130\n",
              "         92400       2018-05-24       92400  ...                119\n",
              "         92500       2018-03-14       92500  ...                122\n",
              "                     2018-04-17       92500  ...                119\n",
              "                     2018-04-04       92500  ...                126\n",
              "                     2018-03-28       92500  ...                118\n",
              "                     2018-03-23       92500  ...                135\n",
              "                     2018-04-11       92500  ...                118\n",
              "         92600       2018-02-21       92600  ...                123\n",
              "                     2018-04-12       92600  ...                131\n",
              "         92700       2018-05-21       92700  ...                122\n",
              "                     2018-04-20       92700  ...                127\n",
              "                     2018-06-12       92700  ...                123\n",
              "         93100       2018-05-25       93100  ...                131\n",
              "                     2018-03-16       93100  ...                128\n",
              "                     2018-06-11       93100  ...                120\n",
              "                     2018-02-15       93100  ...                118\n",
              "         93400       2018-05-02       93400  ...                126\n",
              "weekend  92000       2018-04-29       92000  ...                120\n",
              "         92150       2018-03-04       92150  ...                117\n",
              "                     2018-03-31       92150  ...                126\n",
              "         92210       2018-03-10       92210  ...                120\n",
              "         92400       2018-05-06       92400  ...                134\n",
              "                     2018-04-14       92400  ...                129\n",
              "         92800       2018-05-26       92800  ...                130\n",
              "         94300       2018-05-26       94300  ...                127\n",
              "         94800       2018-04-07       94800  ...                123\n",
              "\n",
              "[37 rows x 4 columns]"
            ]
          },
          "metadata": {
            "tags": []
          },
          "execution_count": 2098
        }
      ]
    },
    {
      "cell_type": "markdown",
      "metadata": {
        "id": "XhBW7MWoXvQG",
        "colab_type": "text"
      },
      "source": [
        "# Checking consistency of data "
      ]
    },
    {
      "cell_type": "code",
      "metadata": {
        "id": "ffSTXZfuX1YC",
        "colab_type": "code",
        "colab": {
          "base_uri": "https://localhost:8080/",
          "height": 284
        },
        "outputId": "1678db8a-a286-4197-cd08-dfa72cd9c6d4"
      },
      "source": [
        "bluecars_sample.describe()"
      ],
      "execution_count": 2099,
      "outputs": [
        {
          "output_type": "execute_result",
          "data": {
            "text/html": [
              "<div>\n",
              "<style scoped>\n",
              "    .dataframe tbody tr th:only-of-type {\n",
              "        vertical-align: middle;\n",
              "    }\n",
              "\n",
              "    .dataframe tbody tr th {\n",
              "        vertical-align: top;\n",
              "    }\n",
              "\n",
              "    .dataframe thead th {\n",
              "        text-align: right;\n",
              "    }\n",
              "</style>\n",
              "<table border=\"1\" class=\"dataframe\">\n",
              "  <thead>\n",
              "    <tr style=\"text-align: right;\">\n",
              "      <th></th>\n",
              "      <th>bluecars_taken_sum</th>\n",
              "    </tr>\n",
              "  </thead>\n",
              "  <tbody>\n",
              "    <tr>\n",
              "      <th>count</th>\n",
              "      <td>37.000000</td>\n",
              "    </tr>\n",
              "    <tr>\n",
              "      <th>mean</th>\n",
              "      <td>125.000000</td>\n",
              "    </tr>\n",
              "    <tr>\n",
              "      <th>std</th>\n",
              "      <td>5.270463</td>\n",
              "    </tr>\n",
              "    <tr>\n",
              "      <th>min</th>\n",
              "      <td>117.000000</td>\n",
              "    </tr>\n",
              "    <tr>\n",
              "      <th>25%</th>\n",
              "      <td>120.000000</td>\n",
              "    </tr>\n",
              "    <tr>\n",
              "      <th>50%</th>\n",
              "      <td>123.000000</td>\n",
              "    </tr>\n",
              "    <tr>\n",
              "      <th>75%</th>\n",
              "      <td>129.000000</td>\n",
              "    </tr>\n",
              "    <tr>\n",
              "      <th>max</th>\n",
              "      <td>135.000000</td>\n",
              "    </tr>\n",
              "  </tbody>\n",
              "</table>\n",
              "</div>"
            ],
            "text/plain": [
              "       bluecars_taken_sum\n",
              "count           37.000000\n",
              "mean           125.000000\n",
              "std              5.270463\n",
              "min            117.000000\n",
              "25%            120.000000\n",
              "50%            123.000000\n",
              "75%            129.000000\n",
              "max            135.000000"
            ]
          },
          "metadata": {
            "tags": []
          },
          "execution_count": 2099
        }
      ]
    },
    {
      "cell_type": "code",
      "metadata": {
        "id": "Fe8zgxDX727Y",
        "colab_type": "code",
        "colab": {
          "base_uri": "https://localhost:8080/",
          "height": 284
        },
        "outputId": "96f8b930-f3fa-4acd-f836-1970f23863a8"
      },
      "source": [
        "#Descriptive statistics \n",
        "df.describe()\n"
      ],
      "execution_count": 2100,
      "outputs": [
        {
          "output_type": "execute_result",
          "data": {
            "text/html": [
              "<div>\n",
              "<style scoped>\n",
              "    .dataframe tbody tr th:only-of-type {\n",
              "        vertical-align: middle;\n",
              "    }\n",
              "\n",
              "    .dataframe tbody tr th {\n",
              "        vertical-align: top;\n",
              "    }\n",
              "\n",
              "    .dataframe thead th {\n",
              "        text-align: right;\n",
              "    }\n",
              "</style>\n",
              "<table border=\"1\" class=\"dataframe\">\n",
              "  <thead>\n",
              "    <tr style=\"text-align: right;\">\n",
              "      <th></th>\n",
              "      <th>dayofweek</th>\n",
              "      <th>bluecars_taken_sum</th>\n",
              "      <th>bluecars_returned_sum</th>\n",
              "      <th>slots_freed_sum</th>\n",
              "      <th>slots_taken_sum</th>\n",
              "    </tr>\n",
              "  </thead>\n",
              "  <tbody>\n",
              "    <tr>\n",
              "      <th>count</th>\n",
              "      <td>16085.000000</td>\n",
              "      <td>16085.000000</td>\n",
              "      <td>16085.000000</td>\n",
              "      <td>16085.000000</td>\n",
              "      <td>16085.000000</td>\n",
              "    </tr>\n",
              "    <tr>\n",
              "      <th>mean</th>\n",
              "      <td>2.969599</td>\n",
              "      <td>125.926951</td>\n",
              "      <td>125.912714</td>\n",
              "      <td>22.629033</td>\n",
              "      <td>22.629282</td>\n",
              "    </tr>\n",
              "    <tr>\n",
              "      <th>std</th>\n",
              "      <td>2.008378</td>\n",
              "      <td>185.426579</td>\n",
              "      <td>185.501535</td>\n",
              "      <td>52.120263</td>\n",
              "      <td>52.146030</td>\n",
              "    </tr>\n",
              "    <tr>\n",
              "      <th>min</th>\n",
              "      <td>0.000000</td>\n",
              "      <td>0.000000</td>\n",
              "      <td>0.000000</td>\n",
              "      <td>0.000000</td>\n",
              "      <td>0.000000</td>\n",
              "    </tr>\n",
              "    <tr>\n",
              "      <th>25%</th>\n",
              "      <td>1.000000</td>\n",
              "      <td>20.000000</td>\n",
              "      <td>20.000000</td>\n",
              "      <td>0.000000</td>\n",
              "      <td>0.000000</td>\n",
              "    </tr>\n",
              "    <tr>\n",
              "      <th>50%</th>\n",
              "      <td>3.000000</td>\n",
              "      <td>46.000000</td>\n",
              "      <td>46.000000</td>\n",
              "      <td>0.000000</td>\n",
              "      <td>0.000000</td>\n",
              "    </tr>\n",
              "    <tr>\n",
              "      <th>75%</th>\n",
              "      <td>5.000000</td>\n",
              "      <td>135.000000</td>\n",
              "      <td>135.000000</td>\n",
              "      <td>5.000000</td>\n",
              "      <td>5.000000</td>\n",
              "    </tr>\n",
              "    <tr>\n",
              "      <th>max</th>\n",
              "      <td>6.000000</td>\n",
              "      <td>1352.000000</td>\n",
              "      <td>1332.000000</td>\n",
              "      <td>360.000000</td>\n",
              "      <td>359.000000</td>\n",
              "    </tr>\n",
              "  </tbody>\n",
              "</table>\n",
              "</div>"
            ],
            "text/plain": [
              "          dayofweek  bluecars_taken_sum  ...  slots_freed_sum  slots_taken_sum\n",
              "count  16085.000000        16085.000000  ...     16085.000000     16085.000000\n",
              "mean       2.969599          125.926951  ...        22.629033        22.629282\n",
              "std        2.008378          185.426579  ...        52.120263        52.146030\n",
              "min        0.000000            0.000000  ...         0.000000         0.000000\n",
              "25%        1.000000           20.000000  ...         0.000000         0.000000\n",
              "50%        3.000000           46.000000  ...         0.000000         0.000000\n",
              "75%        5.000000          135.000000  ...         5.000000         5.000000\n",
              "max        6.000000         1352.000000  ...       360.000000       359.000000\n",
              "\n",
              "[8 rows x 5 columns]"
            ]
          },
          "metadata": {
            "tags": []
          },
          "execution_count": 2100
        }
      ]
    },
    {
      "cell_type": "code",
      "metadata": {
        "id": "G-mlzd1Gct7T",
        "colab_type": "code",
        "colab": {
          "base_uri": "https://localhost:8080/",
          "height": 34
        },
        "outputId": "5e319bd4-d3fb-44a2-c94a-5236b90d5141"
      },
      "source": [
        "#Point estimation \n",
        "df['bluecars_taken_sum'].mean() - bluecars_sample['bluecars_taken_sum'].mean()"
      ],
      "execution_count": 2119,
      "outputs": [
        {
          "output_type": "execute_result",
          "data": {
            "text/plain": [
              "0.926950575069938"
            ]
          },
          "metadata": {
            "tags": []
          },
          "execution_count": 2119
        }
      ]
    },
    {
      "cell_type": "markdown",
      "metadata": {
        "id": "pbVqYeYBSe_y",
        "colab_type": "text"
      },
      "source": [
        "# Normality Test "
      ]
    },
    {
      "cell_type": "code",
      "metadata": {
        "id": "ELhfTZ-j_3iD",
        "colab_type": "code",
        "colab": {
          "base_uri": "https://localhost:8080/",
          "height": 50
        },
        "outputId": "cb55a6e3-d7f0-424e-ee07-d5cfbb4840c7"
      },
      "source": [
        "# imporing the shapiro function\n",
        "from scipy.stats import shapiro \n",
        "\n",
        "# testing for normality\n",
        "stat, p = shapiro(bluecars_sample['bluecars_taken_sum'])\n",
        "print('Statistics=%.3f, p=%.3f' % (stat, p))\n",
        "\n",
        "# interpreting\n",
        "alpha = 0.05\n",
        "if p > alpha:\n",
        "\tprint('Sample looks Gaussian')\n",
        "else:\n",
        "\tprint('Sample does not look Gaussian')"
      ],
      "execution_count": 2101,
      "outputs": [
        {
          "output_type": "stream",
          "text": [
            "Statistics=0.943, p=0.058\n",
            "Sample looks Gaussian\n"
          ],
          "name": "stdout"
        }
      ]
    },
    {
      "cell_type": "code",
      "metadata": {
        "id": "nVbsBgw5FrUg",
        "colab_type": "code",
        "colab": {
          "base_uri": "https://localhost:8080/",
          "height": 279
        },
        "outputId": "eab79edc-03a8-4d10-da45-831f036b9a3c"
      },
      "source": [
        "from statsmodels.graphics.gofplots import qqplot\n",
        "from matplotlib import pyplot\n",
        "# q-q plot\n",
        "qqplot(bluecars_sample['bluecars_taken_sum'], line='s')\n",
        "pyplot.show()"
      ],
      "execution_count": 2102,
      "outputs": [
        {
          "output_type": "display_data",
          "data": {
            "image/png": "[encoded data removed]",
            "text/plain": [
              "<Figure size 432x288 with 1 Axes>"
            ]
          },
          "metadata": {
            "tags": [],
            "needs_background": "light"
          }
        }
      ]
    },
    {
      "cell_type": "markdown",
      "metadata": {
        "id": "QUIOIoYCiUMt",
        "colab_type": "text"
      },
      "source": [
        "# Hypothesis Testing "
      ]
    },
    {
      "cell_type": "code",
      "metadata": {
        "id": "caHKAe4jiS9_",
        "colab_type": "code",
        "colab": {
          "base_uri": "https://localhost:8080/",
          "height": 222
        },
        "outputId": "04e996f1-7718-4f56-e397-80381b377387"
      },
      "source": [
        "bluecars_sample.info()\n"
      ],
      "execution_count": 2103,
      "outputs": [
        {
          "output_type": "stream",
          "text": [
            "<class 'pandas.core.frame.DataFrame'>\n",
            "MultiIndex: 37 entries, ('weekday', '75001', Timestamp('2018-06-18 00:00:00')) to ('weekend', '94800', Timestamp('2018-04-07 00:00:00'))\n",
            "Data columns (total 4 columns):\n",
            " #   Column              Non-Null Count  Dtype \n",
            "---  ------              --------------  ----- \n",
            " 0   postal_code         37 non-null     object\n",
            " 1   date                37 non-null     object\n",
            " 2   day_type            37 non-null     object\n",
            " 3   bluecars_taken_sum  37 non-null     int64 \n",
            "dtypes: int64(1), object(3)\n",
            "memory usage: 3.6+ KB\n"
          ],
          "name": "stdout"
        }
      ]
    },
    {
      "cell_type": "code",
      "metadata": {
        "id": "clhiH4Aiiz9D",
        "colab_type": "code",
        "colab": {}
      },
      "source": [
        "convert_dict = {'postal_code': int}\n",
        "  \n",
        "bluecars_sample= bluecars_sample.astype(convert_dict) "
      ],
      "execution_count": 2104,
      "outputs": []
    },
    {
      "cell_type": "code",
      "metadata": {
        "id": "IyYbqxOpjPk2",
        "colab_type": "code",
        "colab": {
          "base_uri": "https://localhost:8080/",
          "height": 225
        },
        "outputId": "231a6f7e-f666-4030-ba1c-92d2c0d8028d"
      },
      "source": [
        "op = bluecars_sample.loc[ (bluecars_sample['day_type'] == 'weekday')& (bluecars_sample['postal_code'] < 75008) ]\n",
        "op.date.sort_values(ascending=True)\n",
        "op"
      ],
      "execution_count": 2105,
      "outputs": [
        {
          "output_type": "execute_result",
          "data": {
            "text/html": [
              "<div>\n",
              "<style scoped>\n",
              "    .dataframe tbody tr th:only-of-type {\n",
              "        vertical-align: middle;\n",
              "    }\n",
              "\n",
              "    .dataframe tbody tr th {\n",
              "        vertical-align: top;\n",
              "    }\n",
              "\n",
              "    .dataframe thead th {\n",
              "        text-align: right;\n",
              "    }\n",
              "</style>\n",
              "<table border=\"1\" class=\"dataframe\">\n",
              "  <thead>\n",
              "    <tr style=\"text-align: right;\">\n",
              "      <th></th>\n",
              "      <th></th>\n",
              "      <th></th>\n",
              "      <th>postal_code</th>\n",
              "      <th>date</th>\n",
              "      <th>day_type</th>\n",
              "      <th>bluecars_taken_sum</th>\n",
              "    </tr>\n",
              "    <tr>\n",
              "      <th>day_type</th>\n",
              "      <th>postal_code</th>\n",
              "      <th>date</th>\n",
              "      <th></th>\n",
              "      <th></th>\n",
              "      <th></th>\n",
              "      <th></th>\n",
              "    </tr>\n",
              "  </thead>\n",
              "  <tbody>\n",
              "    <tr>\n",
              "      <th rowspan=\"5\" valign=\"top\">weekday</th>\n",
              "      <th rowspan=\"4\" valign=\"top\">75001</th>\n",
              "      <th>2018-06-18</th>\n",
              "      <td>75001</td>\n",
              "      <td>6/18/2018</td>\n",
              "      <td>weekday</td>\n",
              "      <td>122</td>\n",
              "    </tr>\n",
              "    <tr>\n",
              "      <th>2018-03-09</th>\n",
              "      <td>75001</td>\n",
              "      <td>3/9/2018</td>\n",
              "      <td>weekday</td>\n",
              "      <td>135</td>\n",
              "    </tr>\n",
              "    <tr>\n",
              "      <th>2018-03-06</th>\n",
              "      <td>75001</td>\n",
              "      <td>3/6/2018</td>\n",
              "      <td>weekday</td>\n",
              "      <td>122</td>\n",
              "    </tr>\n",
              "    <tr>\n",
              "      <th>2018-03-01</th>\n",
              "      <td>75001</td>\n",
              "      <td>3/1/2018</td>\n",
              "      <td>weekday</td>\n",
              "      <td>127</td>\n",
              "    </tr>\n",
              "    <tr>\n",
              "      <th>75002</th>\n",
              "      <th>2018-04-19</th>\n",
              "      <td>75002</td>\n",
              "      <td>4/19/2018</td>\n",
              "      <td>weekday</td>\n",
              "      <td>131</td>\n",
              "    </tr>\n",
              "  </tbody>\n",
              "</table>\n",
              "</div>"
            ],
            "text/plain": [
              "                                 postal_code  ... bluecars_taken_sum\n",
              "day_type postal_code date                     ...                   \n",
              "weekday  75001       2018-06-18        75001  ...                122\n",
              "                     2018-03-09        75001  ...                135\n",
              "                     2018-03-06        75001  ...                122\n",
              "                     2018-03-01        75001  ...                127\n",
              "         75002       2018-04-19        75002  ...                131\n",
              "\n",
              "[5 rows x 4 columns]"
            ]
          },
          "metadata": {
            "tags": []
          },
          "execution_count": 2105
        }
      ]
    },
    {
      "cell_type": "code",
      "metadata": {
        "id": "klCTvGjjkyd6",
        "colab_type": "code",
        "colab": {
          "base_uri": "https://localhost:8080/",
          "height": 728
        },
        "outputId": "a63d5e77-d6e8-4043-c1f6-c82630a795b7"
      },
      "source": [
        "op1 = bluecars_sample.loc[ (bluecars_sample['day_type'] == 'weekday')& (bluecars_sample['postal_code'] > 92000) ]\n",
        "op1.date.sort_values(ascending=True)\n",
        "op1"
      ],
      "execution_count": 2106,
      "outputs": [
        {
          "output_type": "execute_result",
          "data": {
            "text/html": [
              "<div>\n",
              "<style scoped>\n",
              "    .dataframe tbody tr th:only-of-type {\n",
              "        vertical-align: middle;\n",
              "    }\n",
              "\n",
              "    .dataframe tbody tr th {\n",
              "        vertical-align: top;\n",
              "    }\n",
              "\n",
              "    .dataframe thead th {\n",
              "        text-align: right;\n",
              "    }\n",
              "</style>\n",
              "<table border=\"1\" class=\"dataframe\">\n",
              "  <thead>\n",
              "    <tr style=\"text-align: right;\">\n",
              "      <th></th>\n",
              "      <th></th>\n",
              "      <th></th>\n",
              "      <th>postal_code</th>\n",
              "      <th>date</th>\n",
              "      <th>day_type</th>\n",
              "      <th>bluecars_taken_sum</th>\n",
              "    </tr>\n",
              "    <tr>\n",
              "      <th>day_type</th>\n",
              "      <th>postal_code</th>\n",
              "      <th>date</th>\n",
              "      <th></th>\n",
              "      <th></th>\n",
              "      <th></th>\n",
              "      <th></th>\n",
              "    </tr>\n",
              "  </thead>\n",
              "  <tbody>\n",
              "    <tr>\n",
              "      <th rowspan=\"22\" valign=\"top\">weekday</th>\n",
              "      <th>92150</th>\n",
              "      <th>2018-05-01</th>\n",
              "      <td>92150</td>\n",
              "      <td>5/1/2018</td>\n",
              "      <td>weekday</td>\n",
              "      <td>123</td>\n",
              "    </tr>\n",
              "    <tr>\n",
              "      <th>92240</th>\n",
              "      <th>2018-01-29</th>\n",
              "      <td>92240</td>\n",
              "      <td>1/29/2018</td>\n",
              "      <td>weekday</td>\n",
              "      <td>126</td>\n",
              "    </tr>\n",
              "    <tr>\n",
              "      <th rowspan=\"3\" valign=\"top\">92300</th>\n",
              "      <th>2018-03-12</th>\n",
              "      <td>92300</td>\n",
              "      <td>3/12/2018</td>\n",
              "      <td>weekday</td>\n",
              "      <td>123</td>\n",
              "    </tr>\n",
              "    <tr>\n",
              "      <th>2018-04-16</th>\n",
              "      <td>92300</td>\n",
              "      <td>4/16/2018</td>\n",
              "      <td>weekday</td>\n",
              "      <td>134</td>\n",
              "    </tr>\n",
              "    <tr>\n",
              "      <th>2018-01-17</th>\n",
              "      <td>92300</td>\n",
              "      <td>1/17/2018</td>\n",
              "      <td>weekday</td>\n",
              "      <td>130</td>\n",
              "    </tr>\n",
              "    <tr>\n",
              "      <th>92400</th>\n",
              "      <th>2018-05-24</th>\n",
              "      <td>92400</td>\n",
              "      <td>5/24/2018</td>\n",
              "      <td>weekday</td>\n",
              "      <td>119</td>\n",
              "    </tr>\n",
              "    <tr>\n",
              "      <th rowspan=\"6\" valign=\"top\">92500</th>\n",
              "      <th>2018-03-14</th>\n",
              "      <td>92500</td>\n",
              "      <td>3/14/2018</td>\n",
              "      <td>weekday</td>\n",
              "      <td>122</td>\n",
              "    </tr>\n",
              "    <tr>\n",
              "      <th>2018-04-17</th>\n",
              "      <td>92500</td>\n",
              "      <td>4/17/2018</td>\n",
              "      <td>weekday</td>\n",
              "      <td>119</td>\n",
              "    </tr>\n",
              "    <tr>\n",
              "      <th>2018-04-04</th>\n",
              "      <td>92500</td>\n",
              "      <td>4/4/2018</td>\n",
              "      <td>weekday</td>\n",
              "      <td>126</td>\n",
              "    </tr>\n",
              "    <tr>\n",
              "      <th>2018-03-28</th>\n",
              "      <td>92500</td>\n",
              "      <td>3/28/2018</td>\n",
              "      <td>weekday</td>\n",
              "      <td>118</td>\n",
              "    </tr>\n",
              "    <tr>\n",
              "      <th>2018-03-23</th>\n",
              "      <td>92500</td>\n",
              "      <td>3/23/2018</td>\n",
              "      <td>weekday</td>\n",
              "      <td>135</td>\n",
              "    </tr>\n",
              "    <tr>\n",
              "      <th>2018-04-11</th>\n",
              "      <td>92500</td>\n",
              "      <td>4/11/2018</td>\n",
              "      <td>weekday</td>\n",
              "      <td>118</td>\n",
              "    </tr>\n",
              "    <tr>\n",
              "      <th rowspan=\"2\" valign=\"top\">92600</th>\n",
              "      <th>2018-02-21</th>\n",
              "      <td>92600</td>\n",
              "      <td>2/21/2018</td>\n",
              "      <td>weekday</td>\n",
              "      <td>123</td>\n",
              "    </tr>\n",
              "    <tr>\n",
              "      <th>2018-04-12</th>\n",
              "      <td>92600</td>\n",
              "      <td>4/12/2018</td>\n",
              "      <td>weekday</td>\n",
              "      <td>131</td>\n",
              "    </tr>\n",
              "    <tr>\n",
              "      <th rowspan=\"3\" valign=\"top\">92700</th>\n",
              "      <th>2018-05-21</th>\n",
              "      <td>92700</td>\n",
              "      <td>5/21/2018</td>\n",
              "      <td>weekday</td>\n",
              "      <td>122</td>\n",
              "    </tr>\n",
              "    <tr>\n",
              "      <th>2018-04-20</th>\n",
              "      <td>92700</td>\n",
              "      <td>4/20/2018</td>\n",
              "      <td>weekday</td>\n",
              "      <td>127</td>\n",
              "    </tr>\n",
              "    <tr>\n",
              "      <th>2018-06-12</th>\n",
              "      <td>92700</td>\n",
              "      <td>6/12/2018</td>\n",
              "      <td>weekday</td>\n",
              "      <td>123</td>\n",
              "    </tr>\n",
              "    <tr>\n",
              "      <th rowspan=\"4\" valign=\"top\">93100</th>\n",
              "      <th>2018-05-25</th>\n",
              "      <td>93100</td>\n",
              "      <td>5/25/2018</td>\n",
              "      <td>weekday</td>\n",
              "      <td>131</td>\n",
              "    </tr>\n",
              "    <tr>\n",
              "      <th>2018-03-16</th>\n",
              "      <td>93100</td>\n",
              "      <td>3/16/2018</td>\n",
              "      <td>weekday</td>\n",
              "      <td>128</td>\n",
              "    </tr>\n",
              "    <tr>\n",
              "      <th>2018-06-11</th>\n",
              "      <td>93100</td>\n",
              "      <td>6/11/2018</td>\n",
              "      <td>weekday</td>\n",
              "      <td>120</td>\n",
              "    </tr>\n",
              "    <tr>\n",
              "      <th>2018-02-15</th>\n",
              "      <td>93100</td>\n",
              "      <td>2/15/2018</td>\n",
              "      <td>weekday</td>\n",
              "      <td>118</td>\n",
              "    </tr>\n",
              "    <tr>\n",
              "      <th>93400</th>\n",
              "      <th>2018-05-02</th>\n",
              "      <td>93400</td>\n",
              "      <td>5/2/2018</td>\n",
              "      <td>weekday</td>\n",
              "      <td>126</td>\n",
              "    </tr>\n",
              "  </tbody>\n",
              "</table>\n",
              "</div>"
            ],
            "text/plain": [
              "                                 postal_code  ... bluecars_taken_sum\n",
              "day_type postal_code date                     ...                   \n",
              "weekday  92150       2018-05-01        92150  ...                123\n",
              "         92240       2018-01-29        92240  ...                126\n",
              "         92300       2018-03-12        92300  ...                123\n",
              "                     2018-04-16        92300  ...                134\n",
              "                     2018-01-17        92300  ...                130\n",
              "         92400       2018-05-24        92400  ...                119\n",
              "         92500       2018-03-14        92500  ...                122\n",
              "                     2018-04-17        92500  ...                119\n",
              "                     2018-04-04        92500  ...                126\n",
              "                     2018-03-28        92500  ...                118\n",
              "                     2018-03-23        92500  ...                135\n",
              "                     2018-04-11        92500  ...                118\n",
              "         92600       2018-02-21        92600  ...                123\n",
              "                     2018-04-12        92600  ...                131\n",
              "         92700       2018-05-21        92700  ...                122\n",
              "                     2018-04-20        92700  ...                127\n",
              "                     2018-06-12        92700  ...                123\n",
              "         93100       2018-05-25        93100  ...                131\n",
              "                     2018-03-16        93100  ...                128\n",
              "                     2018-06-11        93100  ...                120\n",
              "                     2018-02-15        93100  ...                118\n",
              "         93400       2018-05-02        93400  ...                126\n",
              "\n",
              "[22 rows x 4 columns]"
            ]
          },
          "metadata": {
            "tags": []
          },
          "execution_count": 2106
        }
      ]
    },
    {
      "cell_type": "code",
      "metadata": {
        "id": "cjLe_AeOk-S6",
        "colab_type": "code",
        "colab": {
          "base_uri": "https://localhost:8080/",
          "height": 34
        },
        "outputId": "7c67fc3b-f69f-48d4-e7cc-92b62c0b45b3"
      },
      "source": [
        "print(len(op))"
      ],
      "execution_count": 2107,
      "outputs": [
        {
          "output_type": "stream",
          "text": [
            "5\n"
          ],
          "name": "stdout"
        }
      ]
    },
    {
      "cell_type": "code",
      "metadata": {
        "id": "8zExzXltlFjA",
        "colab_type": "code",
        "colab": {
          "base_uri": "https://localhost:8080/",
          "height": 34
        },
        "outputId": "4474ae94-bee8-4af6-ef4a-57c7d9169f20"
      },
      "source": [
        "print(len(op1))"
      ],
      "execution_count": 2108,
      "outputs": [
        {
          "output_type": "stream",
          "text": [
            "22\n"
          ],
          "name": "stdout"
        }
      ]
    },
    {
      "cell_type": "markdown",
      "metadata": {
        "id": "AgpHH3Ciw_W4",
        "colab_type": "text"
      },
      "source": [
        "Confirming t test assumptions "
      ]
    },
    {
      "cell_type": "code",
      "metadata": {
        "id": "eZxoxgiXwcC1",
        "colab_type": "code",
        "colab": {
          "base_uri": "https://localhost:8080/",
          "height": 297
        },
        "outputId": "f7b5f023-a9f5-4ec9-9de7-77a80851c81b"
      },
      "source": [
        "sns.distplot(op.bluecars_taken_sum)\n",
        "sns.distplot(op1.bluecars_taken_sum)"
      ],
      "execution_count": 2109,
      "outputs": [
        {
          "output_type": "execute_result",
          "data": {
            "text/plain": [
              "<matplotlib.axes._subplots.AxesSubplot at 0x7f50ff6e9390>"
            ]
          },
          "metadata": {
            "tags": []
          },
          "execution_count": 2109
        },
        {
          "output_type": "display_data",
          "data": {
            "image/png": "[encoded data removed]",
            "text/plain": [
              "<Figure size 432x288 with 1 Axes>"
            ]
          },
          "metadata": {
            "tags": [],
            "needs_background": "light"
          }
        }
      ]
    },
    {
      "cell_type": "code",
      "metadata": {
        "id": "GHkzxJhlwxpT",
        "colab_type": "code",
        "colab": {
          "base_uri": "https://localhost:8080/",
          "height": 84
        },
        "outputId": "b1e7fc2e-d5ed-485d-fec6-bb5009fedc5f"
      },
      "source": [
        "from scipy.stats import skew \n",
        "import numpy as np  \n",
        "import pylab as p  \n",
        "  \n",
        "print( '\\nSkewness for data : ', skew(op.bluecars_taken_sum)) \n",
        "print( '\\nSkewness for data : ', skew(op1.bluecars_taken_sum)) "
      ],
      "execution_count": 2110,
      "outputs": [
        {
          "output_type": "stream",
          "text": [
            "\n",
            "Skewness for data :  0.2598196982898982\n",
            "\n",
            "Skewness for data :  0.4401177181822796\n"
          ],
          "name": "stdout"
        }
      ]
    },
    {
      "cell_type": "code",
      "metadata": {
        "id": "HcSd9A1VnJ7m",
        "colab_type": "code",
        "colab": {}
      },
      "source": [
        "convert_dict = {'postal_code': str}\n",
        "  \n",
        "op= op.astype(convert_dict) \n",
        "op1= op1.astype(convert_dict) \n"
      ],
      "execution_count": 2111,
      "outputs": []
    },
    {
      "cell_type": "code",
      "metadata": {
        "id": "5XDRKcHMm9Di",
        "colab_type": "code",
        "colab": {
          "base_uri": "https://localhost:8080/",
          "height": 284
        },
        "outputId": "a835cf71-ae23-444f-93ec-7a7eac110a93"
      },
      "source": [
        "op.describe()"
      ],
      "execution_count": 2112,
      "outputs": [
        {
          "output_type": "execute_result",
          "data": {
            "text/html": [
              "<div>\n",
              "<style scoped>\n",
              "    .dataframe tbody tr th:only-of-type {\n",
              "        vertical-align: middle;\n",
              "    }\n",
              "\n",
              "    .dataframe tbody tr th {\n",
              "        vertical-align: top;\n",
              "    }\n",
              "\n",
              "    .dataframe thead th {\n",
              "        text-align: right;\n",
              "    }\n",
              "</style>\n",
              "<table border=\"1\" class=\"dataframe\">\n",
              "  <thead>\n",
              "    <tr style=\"text-align: right;\">\n",
              "      <th></th>\n",
              "      <th>bluecars_taken_sum</th>\n",
              "    </tr>\n",
              "  </thead>\n",
              "  <tbody>\n",
              "    <tr>\n",
              "      <th>count</th>\n",
              "      <td>5.000000</td>\n",
              "    </tr>\n",
              "    <tr>\n",
              "      <th>mean</th>\n",
              "      <td>127.400000</td>\n",
              "    </tr>\n",
              "    <tr>\n",
              "      <th>std</th>\n",
              "      <td>5.683309</td>\n",
              "    </tr>\n",
              "    <tr>\n",
              "      <th>min</th>\n",
              "      <td>122.000000</td>\n",
              "    </tr>\n",
              "    <tr>\n",
              "      <th>25%</th>\n",
              "      <td>122.000000</td>\n",
              "    </tr>\n",
              "    <tr>\n",
              "      <th>50%</th>\n",
              "      <td>127.000000</td>\n",
              "    </tr>\n",
              "    <tr>\n",
              "      <th>75%</th>\n",
              "      <td>131.000000</td>\n",
              "    </tr>\n",
              "    <tr>\n",
              "      <th>max</th>\n",
              "      <td>135.000000</td>\n",
              "    </tr>\n",
              "  </tbody>\n",
              "</table>\n",
              "</div>"
            ],
            "text/plain": [
              "       bluecars_taken_sum\n",
              "count            5.000000\n",
              "mean           127.400000\n",
              "std              5.683309\n",
              "min            122.000000\n",
              "25%            122.000000\n",
              "50%            127.000000\n",
              "75%            131.000000\n",
              "max            135.000000"
            ]
          },
          "metadata": {
            "tags": []
          },
          "execution_count": 2112
        }
      ]
    },
    {
      "cell_type": "code",
      "metadata": {
        "id": "PggRrswanDES",
        "colab_type": "code",
        "colab": {
          "base_uri": "https://localhost:8080/",
          "height": 284
        },
        "outputId": "5ca22e89-25b0-4e4a-9b47-900702e9aa4d"
      },
      "source": [
        "op1.describe()"
      ],
      "execution_count": 2113,
      "outputs": [
        {
          "output_type": "execute_result",
          "data": {
            "text/html": [
              "<div>\n",
              "<style scoped>\n",
              "    .dataframe tbody tr th:only-of-type {\n",
              "        vertical-align: middle;\n",
              "    }\n",
              "\n",
              "    .dataframe tbody tr th {\n",
              "        vertical-align: top;\n",
              "    }\n",
              "\n",
              "    .dataframe thead th {\n",
              "        text-align: right;\n",
              "    }\n",
              "</style>\n",
              "<table border=\"1\" class=\"dataframe\">\n",
              "  <thead>\n",
              "    <tr style=\"text-align: right;\">\n",
              "      <th></th>\n",
              "      <th>bluecars_taken_sum</th>\n",
              "    </tr>\n",
              "  </thead>\n",
              "  <tbody>\n",
              "    <tr>\n",
              "      <th>count</th>\n",
              "      <td>22.000000</td>\n",
              "    </tr>\n",
              "    <tr>\n",
              "      <th>mean</th>\n",
              "      <td>124.636364</td>\n",
              "    </tr>\n",
              "    <tr>\n",
              "      <th>std</th>\n",
              "      <td>5.205724</td>\n",
              "    </tr>\n",
              "    <tr>\n",
              "      <th>min</th>\n",
              "      <td>118.000000</td>\n",
              "    </tr>\n",
              "    <tr>\n",
              "      <th>25%</th>\n",
              "      <td>120.500000</td>\n",
              "    </tr>\n",
              "    <tr>\n",
              "      <th>50%</th>\n",
              "      <td>123.000000</td>\n",
              "    </tr>\n",
              "    <tr>\n",
              "      <th>75%</th>\n",
              "      <td>127.750000</td>\n",
              "    </tr>\n",
              "    <tr>\n",
              "      <th>max</th>\n",
              "      <td>135.000000</td>\n",
              "    </tr>\n",
              "  </tbody>\n",
              "</table>\n",
              "</div>"
            ],
            "text/plain": [
              "       bluecars_taken_sum\n",
              "count           22.000000\n",
              "mean           124.636364\n",
              "std              5.205724\n",
              "min            118.000000\n",
              "25%            120.500000\n",
              "50%            123.000000\n",
              "75%            127.750000\n",
              "max            135.000000"
            ]
          },
          "metadata": {
            "tags": []
          },
          "execution_count": 2113
        }
      ]
    },
    {
      "cell_type": "markdown",
      "metadata": {
        "id": "w96kOuQ6t-DZ",
        "colab_type": "text"
      },
      "source": [
        "Hypothesis testing \n",
        "\n",
        "µ1 = Mean of Central Paris\n",
        "\n",
        "\n",
        " µ2 = Mean of outer parts of Paris \n",
        "\n",
        "Null H0 : µ1 =< µ2 \n",
        "\n",
        "\n",
        "Alternative Ha:  µ1 > µ2 (claim)\n"
      ]
    },
    {
      "cell_type": "markdown",
      "metadata": {
        "id": "2lZgdqeiu562",
        "colab_type": "text"
      },
      "source": [
        "The alpha level for this experiment will be 0.05 "
      ]
    },
    {
      "cell_type": "code",
      "metadata": {
        "id": "Kj8qCNg3tggU",
        "colab_type": "code",
        "colab": {}
      },
      "source": [
        "#Independent two sample t-test \n",
        "\n",
        "stat,p_value=stats.ttest_ind(a=op.bluecars_taken_sum,b=op1.bluecars_taken_sum,equal_var=False)"
      ],
      "execution_count": 2114,
      "outputs": []
    },
    {
      "cell_type": "code",
      "metadata": {
        "id": "RvQFjtay0r1Y",
        "colab_type": "code",
        "colab": {
          "base_uri": "https://localhost:8080/",
          "height": 50
        },
        "outputId": "4bd70bb7-db33-492c-edf8-79b4613226d7"
      },
      "source": [
        "print(stat)\n",
        "print(p_value)"
      ],
      "execution_count": 2121,
      "outputs": [
        {
          "output_type": "stream",
          "text": [
            "0.9964762427078805\n",
            "0.35988631540138777\n"
          ],
          "name": "stdout"
        }
      ]
    },
    {
      "cell_type": "code",
      "metadata": {
        "id": "96KtJbEU0-C1",
        "colab_type": "code",
        "colab": {
          "base_uri": "https://localhost:8080/",
          "height": 34
        },
        "outputId": "05af054d-17eb-4780-a285-bfe7f8059b76"
      },
      "source": [
        "if p_value < 0.05:    # alpha value is 0.05 or 5%\n",
        "    print(\" we are rejecting null hypothesis\")\n",
        "else:\n",
        "    print(\"we are accepting null hypothesis\")"
      ],
      "execution_count": 2116,
      "outputs": [
        {
          "output_type": "stream",
          "text": [
            "we are accepting null hypothesis\n"
          ],
          "name": "stdout"
        }
      ]
    },
    {
      "cell_type": "code",
      "metadata": {
        "id": "tNiFH1w28NB_",
        "colab_type": "code",
        "colab": {
          "base_uri": "https://localhost:8080/",
          "height": 34
        },
        "outputId": "ecf205ed-9594-4916-a0d6-b20589fd8b25"
      },
      "source": [
        "#Compute the descriptive statistics of op and op1.\n",
        "from scipy.stats import ttest_ind, ttest_ind_from_stats\n",
        "from scipy.special import stdtr\n",
        "abar = op.bluecars_taken_sum.mean()\n",
        "avar = op.bluecars_taken_sum.var(ddof=1)\n",
        "na = op.size\n",
        "adof = na - 1\n",
        "\n",
        "bbar =op1.bluecars_taken_sum.mean()\n",
        "bvar = op1.bluecars_taken_sum.var(ddof=1)\n",
        "nb = op1.size\n",
        "bdof = nb - 1\n",
        "\n",
        "# Using formulas directly.\n",
        "tf =(abar - bbar) / np.sqrt(avar/na + bvar/nb)\n",
        "dof = (avar/na + bvar/nb)**2 / (avar**2/(na**2*adof) + bvar**2/(nb**2*bdof))\n",
        "pf = 2*stdtr(dof, -np.abs(tf))\n",
        "\n",
        "print(\"formula:              t = %g  p = %g\" % (tf, pf))\n"
      ],
      "execution_count": 2117,
      "outputs": [
        {
          "output_type": "stream",
          "text": [
            "formula:              t = 1.99295  p = 0.0565694\n"
          ],
          "name": "stdout"
        }
      ]
    },
    {
      "cell_type": "code",
      "metadata": {
        "id": "aaQVsih1AojZ",
        "colab_type": "code",
        "colab": {
          "base_uri": "https://localhost:8080/",
          "height": 34
        },
        "outputId": "73a96efe-d183-4560-bac3-44206e9b2772"
      },
      "source": [
        "#degrees of freedom =\n",
        "dof = adof + bdof\n",
        "dof"
      ],
      "execution_count": 2118,
      "outputs": [
        {
          "output_type": "execute_result",
          "data": {
            "text/plain": [
              "106"
            ]
          },
          "metadata": {
            "tags": []
          },
          "execution_count": 2118
        }
      ]
    },
    {
      "cell_type": "markdown",
      "metadata": {
        "id": "xansiR58By7w",
        "colab_type": "text"
      },
      "source": [
        "T critical at 0.05 confidence interval and degree of freedom of 106 is 1.6593\n",
        "\n",
        "\n",
        "T stat > T critical \n",
        "\n",
        "\n",
        "If the t-value is greater than the critical value, you  reject the null hypothesis."
      ]
    }
  ]
}